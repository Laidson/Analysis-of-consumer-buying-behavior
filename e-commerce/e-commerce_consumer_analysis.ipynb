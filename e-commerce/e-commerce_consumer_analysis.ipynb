{
 "cells": [
  {
   "cell_type": "markdown",
   "metadata": {},
   "source": [
    "# Analysis of consumer buying behavior\n",
    "\n",
    "***\n"
   ]
  },
  {
   "cell_type": "markdown",
   "metadata": {},
   "source": [
    "## **Objective:**\n",
    "\n",
    "Analyze purchasing data for a website\n",
    "* The data is in JSON format \n",
    "\n",
    "\n",
    "* On the website, each user logs in using their account and can purchase products as they browse the list of products offered. Each product has a sales value. Age and gender data for each user has been collected and is provided in the JSON file.\n",
    "\n",
    "* We're going to analyze consumer buying behavior using the Python language Pandas package.\n",
    "***\n",
    "\n",
    "\n",
    "\n",
    "\n"
   ]
  },
  {
   "cell_type": "code",
   "execution_count": 1,
   "metadata": {},
   "outputs": [],
   "source": [
    "# Imports\n",
    "import pandas as pd\n",
    "import numpy as np"
   ]
  },
  {
   "cell_type": "code",
   "execution_count": 2,
   "metadata": {},
   "outputs": [
    {
     "data": {
      "text/html": [
       "<div>\n",
       "<style scoped>\n",
       "    .dataframe tbody tr th:only-of-type {\n",
       "        vertical-align: middle;\n",
       "    }\n",
       "\n",
       "    .dataframe tbody tr th {\n",
       "        vertical-align: top;\n",
       "    }\n",
       "\n",
       "    .dataframe thead th {\n",
       "        text-align: right;\n",
       "    }\n",
       "</style>\n",
       "<table border=\"1\" class=\"dataframe\">\n",
       "  <thead>\n",
       "    <tr style=\"text-align: right;\">\n",
       "      <th></th>\n",
       "      <th>Idade</th>\n",
       "      <th>Item ID</th>\n",
       "      <th>Login</th>\n",
       "      <th>Nome do Item</th>\n",
       "      <th>Sexo</th>\n",
       "      <th>Valor</th>\n",
       "    </tr>\n",
       "  </thead>\n",
       "  <tbody>\n",
       "    <tr>\n",
       "      <th>0</th>\n",
       "      <td>38</td>\n",
       "      <td>164</td>\n",
       "      <td>Aelalis34</td>\n",
       "      <td>Bone Crushing Silver Skewer</td>\n",
       "      <td>Masculino</td>\n",
       "      <td>3.37</td>\n",
       "    </tr>\n",
       "    <tr>\n",
       "      <th>1</th>\n",
       "      <td>21</td>\n",
       "      <td>119</td>\n",
       "      <td>Eolo46</td>\n",
       "      <td>Stormbringer, Dark Blade of Ending Misery</td>\n",
       "      <td>Masculino</td>\n",
       "      <td>2.32</td>\n",
       "    </tr>\n",
       "    <tr>\n",
       "      <th>2</th>\n",
       "      <td>34</td>\n",
       "      <td>174</td>\n",
       "      <td>Assastnya25</td>\n",
       "      <td>Primitive Blade</td>\n",
       "      <td>Masculino</td>\n",
       "      <td>2.46</td>\n",
       "    </tr>\n",
       "    <tr>\n",
       "      <th>3</th>\n",
       "      <td>21</td>\n",
       "      <td>92</td>\n",
       "      <td>Pheusrical25</td>\n",
       "      <td>Final Critic</td>\n",
       "      <td>Masculino</td>\n",
       "      <td>1.36</td>\n",
       "    </tr>\n",
       "    <tr>\n",
       "      <th>4</th>\n",
       "      <td>23</td>\n",
       "      <td>63</td>\n",
       "      <td>Aela59</td>\n",
       "      <td>Stormfury Mace</td>\n",
       "      <td>Masculino</td>\n",
       "      <td>1.27</td>\n",
       "    </tr>\n",
       "  </tbody>\n",
       "</table>\n",
       "</div>"
      ],
      "text/plain": [
       "   Idade  Item ID         Login                               Nome do Item  \\\n",
       "0     38      164     Aelalis34                Bone Crushing Silver Skewer   \n",
       "1     21      119        Eolo46  Stormbringer, Dark Blade of Ending Misery   \n",
       "2     34      174   Assastnya25                            Primitive Blade   \n",
       "3     21       92  Pheusrical25                               Final Critic   \n",
       "4     23       63        Aela59                             Stormfury Mace   \n",
       "\n",
       "        Sexo  Valor  \n",
       "0  Masculino   3.37  \n",
       "1  Masculino   2.32  \n",
       "2  Masculino   2.46  \n",
       "3  Masculino   1.36  \n",
       "4  Masculino   1.27  "
      ]
     },
     "execution_count": 2,
     "metadata": {},
     "output_type": "execute_result"
    }
   ],
   "source": [
    "# Load the file\n",
    "load_file = \"dados_compras.json\"\n",
    "purchase_file = pd.read_json(load_file, orient = \"records\")\n",
    "purchase_file.head()"
   ]
  },
  {
   "cell_type": "code",
   "execution_count": 117,
   "metadata": {},
   "outputs": [
    {
     "data": {
      "text/plain": [
       "Age          780\n",
       "Item_ID      780\n",
       "Login        780\n",
       "Item_Name    780\n",
       "Sex          780\n",
       "Price        780\n",
       "Age Range    780\n",
       "dtype: int64"
      ]
     },
     "execution_count": 117,
     "metadata": {},
     "output_type": "execute_result"
    }
   ],
   "source": [
    "df.count()"
   ]
  },
  {
   "cell_type": "code",
   "execution_count": 3,
   "metadata": {},
   "outputs": [
    {
     "data": {
      "text/html": [
       "<div>\n",
       "<style scoped>\n",
       "    .dataframe tbody tr th:only-of-type {\n",
       "        vertical-align: middle;\n",
       "    }\n",
       "\n",
       "    .dataframe tbody tr th {\n",
       "        vertical-align: top;\n",
       "    }\n",
       "\n",
       "    .dataframe thead th {\n",
       "        text-align: right;\n",
       "    }\n",
       "</style>\n",
       "<table border=\"1\" class=\"dataframe\">\n",
       "  <thead>\n",
       "    <tr style=\"text-align: right;\">\n",
       "      <th></th>\n",
       "      <th>Age</th>\n",
       "      <th>Item_ID</th>\n",
       "      <th>Login</th>\n",
       "      <th>Item_Name</th>\n",
       "      <th>Sex</th>\n",
       "      <th>Price</th>\n",
       "    </tr>\n",
       "  </thead>\n",
       "  <tbody>\n",
       "    <tr>\n",
       "      <th>0</th>\n",
       "      <td>38</td>\n",
       "      <td>164</td>\n",
       "      <td>Aelalis34</td>\n",
       "      <td>Bone Crushing Silver Skewer</td>\n",
       "      <td>Masculino</td>\n",
       "      <td>3.37</td>\n",
       "    </tr>\n",
       "  </tbody>\n",
       "</table>\n",
       "</div>"
      ],
      "text/plain": [
       "   Age  Item_ID      Login                    Item_Name        Sex  Price\n",
       "0   38      164  Aelalis34  Bone Crushing Silver Skewer  Masculino   3.37"
      ]
     },
     "execution_count": 3,
     "metadata": {},
     "output_type": "execute_result"
    }
   ],
   "source": [
    "df = purchase_file\n",
    "df.columns = ['Age', 'Item_ID', 'Login', 'Item_Name', 'Sex', 'Price']\n",
    "df.head(1)"
   ]
  },
  {
   "cell_type": "markdown",
   "metadata": {},
   "source": [
    "## Consumer Information"
   ]
  },
  {
   "cell_type": "code",
   "execution_count": 4,
   "metadata": {},
   "outputs": [
    {
     "data": {
      "text/html": [
       "<div>\n",
       "<style scoped>\n",
       "    .dataframe tbody tr th:only-of-type {\n",
       "        vertical-align: middle;\n",
       "    }\n",
       "\n",
       "    .dataframe tbody tr th {\n",
       "        vertical-align: top;\n",
       "    }\n",
       "\n",
       "    .dataframe thead th {\n",
       "        text-align: right;\n",
       "    }\n",
       "</style>\n",
       "<table border=\"1\" class=\"dataframe\">\n",
       "  <thead>\n",
       "    <tr style=\"text-align: right;\">\n",
       "      <th></th>\n",
       "      <th>Sex</th>\n",
       "      <th>Login</th>\n",
       "      <th>Age</th>\n",
       "    </tr>\n",
       "  </thead>\n",
       "  <tbody>\n",
       "    <tr>\n",
       "      <th>0</th>\n",
       "      <td>Masculino</td>\n",
       "      <td>Aelalis34</td>\n",
       "      <td>38</td>\n",
       "    </tr>\n",
       "    <tr>\n",
       "      <th>1</th>\n",
       "      <td>Masculino</td>\n",
       "      <td>Eolo46</td>\n",
       "      <td>21</td>\n",
       "    </tr>\n",
       "    <tr>\n",
       "      <th>2</th>\n",
       "      <td>Masculino</td>\n",
       "      <td>Assastnya25</td>\n",
       "      <td>34</td>\n",
       "    </tr>\n",
       "    <tr>\n",
       "      <th>3</th>\n",
       "      <td>Masculino</td>\n",
       "      <td>Pheusrical25</td>\n",
       "      <td>21</td>\n",
       "    </tr>\n",
       "    <tr>\n",
       "      <th>4</th>\n",
       "      <td>Masculino</td>\n",
       "      <td>Aela59</td>\n",
       "      <td>23</td>\n",
       "    </tr>\n",
       "  </tbody>\n",
       "</table>\n",
       "</div>"
      ],
      "text/plain": [
       "         Sex         Login  Age\n",
       "0  Masculino     Aelalis34   38\n",
       "1  Masculino        Eolo46   21\n",
       "2  Masculino   Assastnya25   34\n",
       "3  Masculino  Pheusrical25   21\n",
       "4  Masculino        Aela59   23"
      ]
     },
     "execution_count": 4,
     "metadata": {},
     "output_type": "execute_result"
    }
   ],
   "source": [
    "\n",
    "consumer = df.loc[:, ['Sex', 'Login', 'Age']]\n",
    "consumer.head()"
   ]
  },
  {
   "cell_type": "code",
   "execution_count": 5,
   "metadata": {},
   "outputs": [
    {
     "data": {
      "text/plain": [
       "573"
      ]
     },
     "execution_count": 5,
     "metadata": {},
     "output_type": "execute_result"
    }
   ],
   "source": [
    "#total_consumers\n",
    "unique_consumer = consumer.drop_duplicates()\n",
    "consumer_count = unique_consumer.count()[0]\n",
    "consumer_count\n"
   ]
  },
  {
   "cell_type": "code",
   "execution_count": 6,
   "metadata": {},
   "outputs": [
    {
     "data": {
      "text/plain": [
       "Masculino                 465\n",
       "Feminino                  100\n",
       "Outro / NÃ£o Divulgado      8\n",
       "Name: Sex, dtype: int64"
      ]
     },
     "execution_count": 6,
     "metadata": {},
     "output_type": "execute_result"
    }
   ],
   "source": [
    "unique_consumer['Sex'].value_counts()"
   ]
  },
  {
   "cell_type": "code",
   "execution_count": 7,
   "metadata": {},
   "outputs": [
    {
     "data": {
      "text/html": [
       "<div>\n",
       "<style scoped>\n",
       "    .dataframe tbody tr th:only-of-type {\n",
       "        vertical-align: middle;\n",
       "    }\n",
       "\n",
       "    .dataframe tbody tr th {\n",
       "        vertical-align: top;\n",
       "    }\n",
       "\n",
       "    .dataframe thead th {\n",
       "        text-align: right;\n",
       "    }\n",
       "</style>\n",
       "<table border=\"1\" class=\"dataframe\">\n",
       "  <thead>\n",
       "    <tr style=\"text-align: right;\">\n",
       "      <th></th>\n",
       "      <th>Total of consumer</th>\n",
       "    </tr>\n",
       "  </thead>\n",
       "  <tbody>\n",
       "    <tr>\n",
       "      <th>0</th>\n",
       "      <td>573</td>\n",
       "    </tr>\n",
       "  </tbody>\n",
       "</table>\n",
       "</div>"
      ],
      "text/plain": [
       "   Total of consumer\n",
       "0                573"
      ]
     },
     "execution_count": 7,
     "metadata": {},
     "output_type": "execute_result"
    }
   ],
   "source": [
    "pd.DataFrame({'Total of consumer':[consumer_count]})"
   ]
  },
  {
   "cell_type": "markdown",
   "metadata": {},
   "source": [
    "## General Purchasing Analysis\n"
   ]
  },
  {
   "cell_type": "code",
   "execution_count": 8,
   "metadata": {},
   "outputs": [
    {
     "data": {
      "text/plain": [
       "count    780.000000\n",
       "mean       2.931192\n",
       "std        1.115780\n",
       "min        1.030000\n",
       "25%        1.960000\n",
       "50%        2.880000\n",
       "75%        3.910000\n",
       "max        4.950000\n",
       "Name: Price, dtype: float64"
      ]
     },
     "execution_count": 8,
     "metadata": {},
     "output_type": "execute_result"
    }
   ],
   "source": [
    "df['Price'].describe()"
   ]
  },
  {
   "cell_type": "code",
   "execution_count": 9,
   "metadata": {},
   "outputs": [],
   "source": [
    "# Dataframe calculations \n",
    "total_exclusive_items = len(df['Item_ID'].unique())\n",
    "sales_mean = df['Price'].mean()\n",
    "total_item_count = df['Price'].count()\n",
    "total_yield = df['Price'].sum()\n",
    "\n"
   ]
  },
  {
   "cell_type": "code",
   "execution_count": 96,
   "metadata": {},
   "outputs": [
    {
     "data": {
      "text/html": [
       "<div>\n",
       "<style scoped>\n",
       "    .dataframe tbody tr th:only-of-type {\n",
       "        vertical-align: middle;\n",
       "    }\n",
       "\n",
       "    .dataframe tbody tr th {\n",
       "        vertical-align: top;\n",
       "    }\n",
       "\n",
       "    .dataframe thead th {\n",
       "        text-align: right;\n",
       "    }\n",
       "</style>\n",
       "<table border=\"1\" class=\"dataframe\">\n",
       "  <thead>\n",
       "    <tr style=\"text-align: right;\">\n",
       "      <th></th>\n",
       "      <th>Total Exclusive Itens</th>\n",
       "      <th>Sales Mean</th>\n",
       "      <th>Total Item Count</th>\n",
       "      <th>Total Yield</th>\n",
       "    </tr>\n",
       "  </thead>\n",
       "  <tbody>\n",
       "    <tr>\n",
       "      <th>0</th>\n",
       "      <td>183</td>\n",
       "      <td>$2.93</td>\n",
       "      <td>780</td>\n",
       "      <td>$2286.33</td>\n",
       "    </tr>\n",
       "  </tbody>\n",
       "</table>\n",
       "</div>"
      ],
      "text/plain": [
       "   Total Exclusive Itens Sales Mean  Total Item Count Total Yield\n",
       "0                    183      $2.93               780    $2286.33"
      ]
     },
     "execution_count": 96,
     "metadata": {},
     "output_type": "execute_result"
    }
   ],
   "source": [
    "# Dataframe for results\n",
    "summary_calculations = pd.DataFrame({'Total Exclusive Itens':total_exclusive_items, \n",
    "                                     'Sales Mean': [sales_mean],\n",
    "                                    'Total Item Count': total_item_count,\n",
    "                                    'Total Yield': total_yield})\n",
    "\n",
    "# Data Munging\n",
    "summary_calculations = summary_calculations.round(2)\n",
    "summary_calculations['Sales Mean'] = summary_calculations['Sales Mean'].map('${:.2f}'.format) \n",
    "summary_calculations['Total Yield'] = summary_calculations['Total Yield'].map('${:.2f}'.format)\n",
    "\n",
    "#summary_calculations = summary_calculations.loc[:, [\"Total Exclusive Items\", \"Sales Mean\", \"Total Item Count\", \"Total Yield\"]]\n",
    "\n",
    "summary_calculations"
   ]
  },
  {
   "cell_type": "code",
   "execution_count": 11,
   "metadata": {},
   "outputs": [
    {
     "data": {
      "text/plain": [
       "array([164, 119, 174,  92,  63,  10, 153, 169, 118,  99,  57,  47,  81,\n",
       "        77,  44,  96, 123,  59,  91, 177,  78,   3,  11, 183,  65, 132,\n",
       "       106,  49,  45, 155,  37,  48,  90,  13, 171,  25,   7, 124,  68,\n",
       "        85, 120,  17, 141,  73, 151,  32, 165,  51, 101, 140,  31,  34,\n",
       "         2,  86,  39,  28, 160, 134,  83,  38, 158, 110, 122,  54, 105,\n",
       "        87,  23, 144, 128, 175,  46, 150, 152, 108, 172, 167, 181,  20,\n",
       "       130, 111, 103,  30, 139, 173,  55, 115,  35,  42,   9,  84, 180,\n",
       "       102,  53,  18,  74, 126,  50,  62, 125, 121, 129, 149,  12,  71,\n",
       "        14,  58,  27,  52,  66, 100, 112,  24,  94, 107,   0, 182,  97,\n",
       "        70,  89,   1, 170,  93, 179,  36,  75, 143, 137, 176, 148, 127,\n",
       "       147, 161, 154, 157, 116,  61, 131,  41, 145,  60, 162, 135,   8,\n",
       "        40,  15,  29,  72, 114, 117,  79,  88, 104,  95,  64,  98,  33,\n",
       "        76, 146, 166,  56,  22,  21,  16,  67, 133,  69, 159,  82, 113,\n",
       "         6, 163,   5,  19, 168, 136,  80,  26, 142, 178, 156, 109,  43,\n",
       "         4], dtype=int64)"
      ]
     },
     "execution_count": 11,
     "metadata": {},
     "output_type": "execute_result"
    }
   ],
   "source": [
    "# A numpy.ndarray of unique products purchased\n",
    "\n",
    "df['Item_ID'].unique()"
   ]
  },
  {
   "cell_type": "markdown",
   "metadata": {},
   "source": [
    "## Demographic Analysis\n",
    "Consumer demographics\n"
   ]
  },
  {
   "cell_type": "code",
   "execution_count": 12,
   "metadata": {},
   "outputs": [
    {
     "data": {
      "text/html": [
       "<div>\n",
       "<style scoped>\n",
       "    .dataframe tbody tr th:only-of-type {\n",
       "        vertical-align: middle;\n",
       "    }\n",
       "\n",
       "    .dataframe tbody tr th {\n",
       "        vertical-align: top;\n",
       "    }\n",
       "\n",
       "    .dataframe thead th {\n",
       "        text-align: right;\n",
       "    }\n",
       "</style>\n",
       "<table border=\"1\" class=\"dataframe\">\n",
       "  <thead>\n",
       "    <tr style=\"text-align: right;\">\n",
       "      <th></th>\n",
       "      <th>Sex</th>\n",
       "      <th>Login</th>\n",
       "      <th>Age</th>\n",
       "    </tr>\n",
       "  </thead>\n",
       "  <tbody>\n",
       "    <tr>\n",
       "      <th>0</th>\n",
       "      <td>Masculino</td>\n",
       "      <td>Aelalis34</td>\n",
       "      <td>38</td>\n",
       "    </tr>\n",
       "    <tr>\n",
       "      <th>1</th>\n",
       "      <td>Masculino</td>\n",
       "      <td>Eolo46</td>\n",
       "      <td>21</td>\n",
       "    </tr>\n",
       "  </tbody>\n",
       "</table>\n",
       "</div>"
      ],
      "text/plain": [
       "         Sex      Login  Age\n",
       "0  Masculino  Aelalis34   38\n",
       "1  Masculino     Eolo46   21"
      ]
     },
     "execution_count": 12,
     "metadata": {},
     "output_type": "execute_result"
    }
   ],
   "source": [
    "consumer_demographics = consumer\n",
    "consumer_demographics.head(2)"
   ]
  },
  {
   "cell_type": "code",
   "execution_count": 13,
   "metadata": {},
   "outputs": [
    {
     "data": {
      "text/plain": [
       "array([ 7,  8,  9, 10, 11, 12, 13, 14, 15, 16, 17, 18, 19, 20, 21, 22, 23,\n",
       "       24, 25, 26, 27, 28, 29, 30, 31, 32, 33, 34, 35, 36, 37, 38, 39, 40,\n",
       "       42, 43, 45], dtype=int64)"
      ]
     },
     "execution_count": 13,
     "metadata": {},
     "output_type": "execute_result"
    }
   ],
   "source": [
    "consumer_demographics['Age'].sort_values().unique()"
   ]
  },
  {
   "cell_type": "code",
   "execution_count": 14,
   "metadata": {},
   "outputs": [
    {
     "data": {
      "text/html": [
       "<div>\n",
       "<style scoped>\n",
       "    .dataframe tbody tr th:only-of-type {\n",
       "        vertical-align: middle;\n",
       "    }\n",
       "\n",
       "    .dataframe tbody tr th {\n",
       "        vertical-align: top;\n",
       "    }\n",
       "\n",
       "    .dataframe thead th {\n",
       "        text-align: right;\n",
       "    }\n",
       "</style>\n",
       "<table border=\"1\" class=\"dataframe\">\n",
       "  <thead>\n",
       "    <tr style=\"text-align: right;\">\n",
       "      <th></th>\n",
       "      <th>Age</th>\n",
       "      <th>Item_ID</th>\n",
       "      <th>Login</th>\n",
       "      <th>Item_Name</th>\n",
       "      <th>Sex</th>\n",
       "      <th>Price</th>\n",
       "      <th>Age Range</th>\n",
       "    </tr>\n",
       "  </thead>\n",
       "  <tbody>\n",
       "    <tr>\n",
       "      <th>0</th>\n",
       "      <td>38</td>\n",
       "      <td>164</td>\n",
       "      <td>Aelalis34</td>\n",
       "      <td>Bone Crushing Silver Skewer</td>\n",
       "      <td>Masculino</td>\n",
       "      <td>3.37</td>\n",
       "      <td>35 to 39</td>\n",
       "    </tr>\n",
       "    <tr>\n",
       "      <th>1</th>\n",
       "      <td>21</td>\n",
       "      <td>119</td>\n",
       "      <td>Eolo46</td>\n",
       "      <td>Stormbringer, Dark Blade of Ending Misery</td>\n",
       "      <td>Masculino</td>\n",
       "      <td>2.32</td>\n",
       "      <td>20 to 24</td>\n",
       "    </tr>\n",
       "    <tr>\n",
       "      <th>2</th>\n",
       "      <td>34</td>\n",
       "      <td>174</td>\n",
       "      <td>Assastnya25</td>\n",
       "      <td>Primitive Blade</td>\n",
       "      <td>Masculino</td>\n",
       "      <td>2.46</td>\n",
       "      <td>30 to 34</td>\n",
       "    </tr>\n",
       "    <tr>\n",
       "      <th>3</th>\n",
       "      <td>21</td>\n",
       "      <td>92</td>\n",
       "      <td>Pheusrical25</td>\n",
       "      <td>Final Critic</td>\n",
       "      <td>Masculino</td>\n",
       "      <td>1.36</td>\n",
       "      <td>20 to 24</td>\n",
       "    </tr>\n",
       "    <tr>\n",
       "      <th>4</th>\n",
       "      <td>23</td>\n",
       "      <td>63</td>\n",
       "      <td>Aela59</td>\n",
       "      <td>Stormfury Mace</td>\n",
       "      <td>Masculino</td>\n",
       "      <td>1.27</td>\n",
       "      <td>20 to 24</td>\n",
       "    </tr>\n",
       "  </tbody>\n",
       "</table>\n",
       "</div>"
      ],
      "text/plain": [
       "   Age  Item_ID         Login                                  Item_Name  \\\n",
       "0   38      164     Aelalis34                Bone Crushing Silver Skewer   \n",
       "1   21      119        Eolo46  Stormbringer, Dark Blade of Ending Misery   \n",
       "2   34      174   Assastnya25                            Primitive Blade   \n",
       "3   21       92  Pheusrical25                               Final Critic   \n",
       "4   23       63        Aela59                             Stormfury Mace   \n",
       "\n",
       "         Sex  Price Age Range  \n",
       "0  Masculino   3.37  35 to 39  \n",
       "1  Masculino   2.32  20 to 24  \n",
       "2  Masculino   2.46  30 to 34  \n",
       "3  Masculino   1.36  20 to 24  \n",
       "4  Masculino   1.27  20 to 24  "
      ]
     },
     "execution_count": 14,
     "metadata": {},
     "output_type": "execute_result"
    }
   ],
   "source": [
    "age_bins = [0, 9.99, 14.99, 19.99, 24.99, 29.99, 34.99, 39.99, 999]\n",
    "age_brackets = [\"Less than 10\", \"10 to 14\", \"15 to 19\", \"20 to 24\", \"25 to 29\", \"30 to 34\", \"35 to 39\", \"Higher than 40\"]\n",
    "\n",
    "df['Age Range'] = pd.cut(df['Age'], age_bins, labels=age_brackets)\n",
    "df.head()\n",
    "\n"
   ]
  },
  {
   "cell_type": "code",
   "execution_count": 114,
   "metadata": {},
   "outputs": [
    {
     "data": {
      "text/plain": [
       "Less than 10       28\n",
       "10 to 14           35\n",
       "15 to 19          133\n",
       "20 to 24          336\n",
       "25 to 29          125\n",
       "30 to 34           64\n",
       "35 to 39           42\n",
       "Higher than 40     17\n",
       "Name: Age Range, dtype: int64"
      ]
     },
     "execution_count": 114,
     "metadata": {},
     "output_type": "execute_result"
    }
   ],
   "source": [
    "age_demographic_count"
   ]
  },
  {
   "cell_type": "code",
   "execution_count": 115,
   "metadata": {},
   "outputs": [
    {
     "data": {
      "text/plain": [
       "573"
      ]
     },
     "execution_count": 115,
     "metadata": {},
     "output_type": "execute_result"
    }
   ],
   "source": [
    "consumer_count"
   ]
  },
  {
   "cell_type": "code",
   "execution_count": 118,
   "metadata": {},
   "outputs": [],
   "source": [
    "# Dataframe calculations \n",
    "age_demographic_count = df['Age Range'].value_counts()\n",
    "age_demographic_average_item_price = df.groupby(['Age Range']).mean()['Price']\n",
    "age_demographic_total_item_price = df.groupby(['Age Range']).sum()['Price']\n",
    "age_demographic_percent = (age_demographic_count / 780)*100 # consumer count is the sum of unique consumers \n"
   ]
  },
  {
   "cell_type": "code",
   "execution_count": 119,
   "metadata": {},
   "outputs": [
    {
     "data": {
      "text/plain": [
       "Less than 10       3.589744\n",
       "10 to 14           4.487179\n",
       "15 to 19          17.051282\n",
       "20 to 24          43.076923\n",
       "25 to 29          16.025641\n",
       "30 to 34           8.205128\n",
       "35 to 39           5.384615\n",
       "Higher than 40     2.179487\n",
       "Name: Age Range, dtype: float64"
      ]
     },
     "execution_count": 119,
     "metadata": {},
     "output_type": "execute_result"
    }
   ],
   "source": [
    "age_demographic_percent = age_demographic_percent.sort_index()\n",
    "age_demographic_percent"
   ]
  },
  {
   "cell_type": "code",
   "execution_count": 120,
   "metadata": {},
   "outputs": [
    {
     "data": {
      "text/plain": [
       "Age Range\n",
       "Less than 10       83.46\n",
       "10 to 14           96.95\n",
       "15 to 19          386.42\n",
       "20 to 24          978.77\n",
       "25 to 29          370.33\n",
       "30 to 34          197.25\n",
       "35 to 39          119.40\n",
       "Higher than 40     53.75\n",
       "Name: Price, dtype: float64"
      ]
     },
     "execution_count": 120,
     "metadata": {},
     "output_type": "execute_result"
    }
   ],
   "source": [
    "age_demographic_total_item_price = age_demographic_total_item_price.sort_index()\n",
    "age_demographic_total_item_price"
   ]
  },
  {
   "cell_type": "code",
   "execution_count": 121,
   "metadata": {},
   "outputs": [
    {
     "data": {
      "text/plain": [
       "Age Range\n",
       "Less than 10      2.980714\n",
       "10 to 14          2.770000\n",
       "15 to 19          2.905414\n",
       "20 to 24          2.913006\n",
       "25 to 29          2.962640\n",
       "30 to 34          3.082031\n",
       "35 to 39          2.842857\n",
       "Higher than 40    3.161765\n",
       "Name: Price, dtype: float64"
      ]
     },
     "execution_count": 121,
     "metadata": {},
     "output_type": "execute_result"
    }
   ],
   "source": [
    "age_demographic_average_item_price = age_demographic_average_item_price.sort_index()\n",
    "age_demographic_average_item_price"
   ]
  },
  {
   "cell_type": "code",
   "execution_count": 122,
   "metadata": {},
   "outputs": [
    {
     "data": {
      "text/plain": [
       "Less than 10       28\n",
       "10 to 14           35\n",
       "15 to 19          133\n",
       "20 to 24          336\n",
       "25 to 29          125\n",
       "30 to 34           64\n",
       "35 to 39           42\n",
       "Higher than 40     17\n",
       "Name: Age Range, dtype: int64"
      ]
     },
     "execution_count": 122,
     "metadata": {},
     "output_type": "execute_result"
    }
   ],
   "source": [
    "age_demographic_count = age_demographic_count.sort_index()\n",
    "age_demographic_count"
   ]
  },
  {
   "cell_type": "code",
   "execution_count": 123,
   "metadata": {},
   "outputs": [],
   "source": [
    "# Dataframe for results\n",
    "\n",
    "age_demographic = pd.DataFrame({ \"Score\": age_demographic_count, \n",
    "                                 \"%\": age_demographic_percent,\n",
    "                                 \"Value per Unit\": age_demographic_average_item_price, \n",
    "                                 \"Total Purchase Value\": age_demographic_total_item_price})\n"
   ]
  },
  {
   "cell_type": "code",
   "execution_count": 124,
   "metadata": {},
   "outputs": [],
   "source": [
    "# Data Munging\n",
    "\n",
    "age_demographic['Total Purchase Value'] = age_demographic['Total Purchase Value'].map('${:.2f}'.format)\n",
    "age_demographic['Value per Unit'] = age_demographic['Value per Unit'].map('${:.2f}'.format)\n",
    "age_demographic['%'] = age_demographic['%'].map('{:.2f}%'.format)\n",
    "\n",
    "\n"
   ]
  },
  {
   "cell_type": "code",
   "execution_count": 125,
   "metadata": {},
   "outputs": [
    {
     "data": {
      "text/html": [
       "<div>\n",
       "<style scoped>\n",
       "    .dataframe tbody tr th:only-of-type {\n",
       "        vertical-align: middle;\n",
       "    }\n",
       "\n",
       "    .dataframe tbody tr th {\n",
       "        vertical-align: top;\n",
       "    }\n",
       "\n",
       "    .dataframe thead th {\n",
       "        text-align: right;\n",
       "    }\n",
       "</style>\n",
       "<table border=\"1\" class=\"dataframe\">\n",
       "  <thead>\n",
       "    <tr style=\"text-align: right;\">\n",
       "      <th></th>\n",
       "      <th>Score</th>\n",
       "      <th>%</th>\n",
       "      <th>Value per Unit</th>\n",
       "      <th>Total Purchase Value</th>\n",
       "    </tr>\n",
       "    <tr>\n",
       "      <th>Age Range</th>\n",
       "      <th></th>\n",
       "      <th></th>\n",
       "      <th></th>\n",
       "      <th></th>\n",
       "    </tr>\n",
       "  </thead>\n",
       "  <tbody>\n",
       "    <tr>\n",
       "      <th>Less than 10</th>\n",
       "      <td>28</td>\n",
       "      <td>3.59%</td>\n",
       "      <td>$2.98</td>\n",
       "      <td>$83.46</td>\n",
       "    </tr>\n",
       "    <tr>\n",
       "      <th>10 to 14</th>\n",
       "      <td>35</td>\n",
       "      <td>4.49%</td>\n",
       "      <td>$2.77</td>\n",
       "      <td>$96.95</td>\n",
       "    </tr>\n",
       "    <tr>\n",
       "      <th>15 to 19</th>\n",
       "      <td>133</td>\n",
       "      <td>17.05%</td>\n",
       "      <td>$2.91</td>\n",
       "      <td>$386.42</td>\n",
       "    </tr>\n",
       "    <tr>\n",
       "      <th>20 to 24</th>\n",
       "      <td>336</td>\n",
       "      <td>43.08%</td>\n",
       "      <td>$2.91</td>\n",
       "      <td>$978.77</td>\n",
       "    </tr>\n",
       "    <tr>\n",
       "      <th>25 to 29</th>\n",
       "      <td>125</td>\n",
       "      <td>16.03%</td>\n",
       "      <td>$2.96</td>\n",
       "      <td>$370.33</td>\n",
       "    </tr>\n",
       "    <tr>\n",
       "      <th>30 to 34</th>\n",
       "      <td>64</td>\n",
       "      <td>8.21%</td>\n",
       "      <td>$3.08</td>\n",
       "      <td>$197.25</td>\n",
       "    </tr>\n",
       "    <tr>\n",
       "      <th>35 to 39</th>\n",
       "      <td>42</td>\n",
       "      <td>5.38%</td>\n",
       "      <td>$2.84</td>\n",
       "      <td>$119.40</td>\n",
       "    </tr>\n",
       "    <tr>\n",
       "      <th>Higher than 40</th>\n",
       "      <td>17</td>\n",
       "      <td>2.18%</td>\n",
       "      <td>$3.16</td>\n",
       "      <td>$53.75</td>\n",
       "    </tr>\n",
       "  </tbody>\n",
       "</table>\n",
       "</div>"
      ],
      "text/plain": [
       "                Score       % Value per Unit Total Purchase Value\n",
       "Age Range                                                        \n",
       "Less than 10       28   3.59%          $2.98               $83.46\n",
       "10 to 14           35   4.49%          $2.77               $96.95\n",
       "15 to 19          133  17.05%          $2.91              $386.42\n",
       "20 to 24          336  43.08%          $2.91              $978.77\n",
       "25 to 29          125  16.03%          $2.96              $370.33\n",
       "30 to 34           64   8.21%          $3.08              $197.25\n",
       "35 to 39           42   5.38%          $2.84              $119.40\n",
       "Higher than 40     17   2.18%          $3.16               $53.75"
      ]
     },
     "execution_count": 125,
     "metadata": {},
     "output_type": "execute_result"
    }
   ],
   "source": [
    "age_demographic\n"
   ]
  },
  {
   "cell_type": "code",
   "execution_count": 126,
   "metadata": {},
   "outputs": [
    {
     "data": {
      "text/plain": [
       "CategoricalIndex(['Less than 10', '10 to 14', '15 to 19', '20 to 24',\n",
       "                  '25 to 29', '30 to 34', '35 to 39', 'Higher than 40'],\n",
       "                 categories=['Less than 10', '10 to 14', '15 to 19', '20 to 24', '25 to 29', '30 to 34', '35 to 39', 'Higher than 40'], ordered=True, name='Age Range', dtype='category')"
      ]
     },
     "execution_count": 126,
     "metadata": {},
     "output_type": "execute_result"
    }
   ],
   "source": [
    "age_demographic.index"
   ]
  },
  {
   "cell_type": "markdown",
   "metadata": {},
   "source": [
    "## Demographic Information by Gender\n",
    "* Percentage and count of male buyers\n",
    "* Percentage and count of female buyers\n",
    "* Percentage and count of others / not disclosed"
   ]
  },
  {
   "cell_type": "code",
   "execution_count": 127,
   "metadata": {},
   "outputs": [
    {
     "data": {
      "text/plain": [
       "573"
      ]
     },
     "execution_count": 127,
     "metadata": {},
     "output_type": "execute_result"
    }
   ],
   "source": [
    "consumer_count"
   ]
  },
  {
   "cell_type": "code",
   "execution_count": 128,
   "metadata": {},
   "outputs": [
    {
     "data": {
      "text/plain": [
       "array(['Masculino', 'Feminino', 'Outro / NÃ£o Divulgado'], dtype=object)"
      ]
     },
     "execution_count": 128,
     "metadata": {},
     "output_type": "execute_result"
    }
   ],
   "source": [
    "# The values present in Sex classification\n",
    "consumer['Sex'].unique()"
   ]
  },
  {
   "cell_type": "code",
   "execution_count": 129,
   "metadata": {},
   "outputs": [
    {
     "data": {
      "text/plain": [
       "Masculino                 465\n",
       "Feminino                  100\n",
       "Outro / NÃ£o Divulgado      8\n",
       "Name: Sex, dtype: int64"
      ]
     },
     "execution_count": 129,
     "metadata": {},
     "output_type": "execute_result"
    }
   ],
   "source": [
    "gender_count = unique_consumer['Sex'].value_counts()\n",
    "gender_count\n"
   ]
  },
  {
   "cell_type": "code",
   "execution_count": 130,
   "metadata": {},
   "outputs": [
    {
     "data": {
      "text/plain": [
       "Masculino                 81.151832\n",
       "Feminino                  17.452007\n",
       "Outro / NÃ£o Divulgado     1.396161\n",
       "Name: Sex, dtype: float64"
      ]
     },
     "execution_count": 130,
     "metadata": {},
     "output_type": "execute_result"
    }
   ],
   "source": [
    "gender_percent = (gender_count / consumer_count)*100\n",
    "gender_percent"
   ]
  },
  {
   "cell_type": "code",
   "execution_count": 131,
   "metadata": {},
   "outputs": [
    {
     "data": {
      "text/html": [
       "<div>\n",
       "<style scoped>\n",
       "    .dataframe tbody tr th:only-of-type {\n",
       "        vertical-align: middle;\n",
       "    }\n",
       "\n",
       "    .dataframe tbody tr th {\n",
       "        vertical-align: top;\n",
       "    }\n",
       "\n",
       "    .dataframe thead th {\n",
       "        text-align: right;\n",
       "    }\n",
       "</style>\n",
       "<table border=\"1\" class=\"dataframe\">\n",
       "  <thead>\n",
       "    <tr style=\"text-align: right;\">\n",
       "      <th></th>\n",
       "      <th>Sex</th>\n",
       "      <th>%</th>\n",
       "    </tr>\n",
       "  </thead>\n",
       "  <tbody>\n",
       "    <tr>\n",
       "      <th>Masculino</th>\n",
       "      <td>465</td>\n",
       "      <td>81.151832</td>\n",
       "    </tr>\n",
       "    <tr>\n",
       "      <th>Feminino</th>\n",
       "      <td>100</td>\n",
       "      <td>17.452007</td>\n",
       "    </tr>\n",
       "    <tr>\n",
       "      <th>Outro / NÃ£o Divulgado</th>\n",
       "      <td>8</td>\n",
       "      <td>1.396161</td>\n",
       "    </tr>\n",
       "  </tbody>\n",
       "</table>\n",
       "</div>"
      ],
      "text/plain": [
       "                        Sex          %\n",
       "Masculino               465  81.151832\n",
       "Feminino                100  17.452007\n",
       "Outro / NÃ£o Divulgado    8   1.396161"
      ]
     },
     "execution_count": 131,
     "metadata": {},
     "output_type": "execute_result"
    }
   ],
   "source": [
    "# Dataframe for results\n",
    "\n",
    "gender_demographics = pd.DataFrame({'Sex': gender_count,\n",
    "                      \"%\": gender_percent})\n",
    "gender_demographics"
   ]
  },
  {
   "cell_type": "code",
   "execution_count": 132,
   "metadata": {
    "scrolled": true
   },
   "outputs": [
    {
     "data": {
      "text/html": [
       "<div>\n",
       "<style scoped>\n",
       "    .dataframe tbody tr th:only-of-type {\n",
       "        vertical-align: middle;\n",
       "    }\n",
       "\n",
       "    .dataframe tbody tr th {\n",
       "        vertical-align: top;\n",
       "    }\n",
       "\n",
       "    .dataframe thead th {\n",
       "        text-align: right;\n",
       "    }\n",
       "</style>\n",
       "<table border=\"1\" class=\"dataframe\">\n",
       "  <thead>\n",
       "    <tr style=\"text-align: right;\">\n",
       "      <th></th>\n",
       "      <th>Sex</th>\n",
       "      <th>%</th>\n",
       "    </tr>\n",
       "  </thead>\n",
       "  <tbody>\n",
       "    <tr>\n",
       "      <th>Masculino</th>\n",
       "      <td>465</td>\n",
       "      <td>81.2%</td>\n",
       "    </tr>\n",
       "    <tr>\n",
       "      <th>Feminino</th>\n",
       "      <td>100</td>\n",
       "      <td>17.4%</td>\n",
       "    </tr>\n",
       "    <tr>\n",
       "      <th>Outro / NÃ£o Divulgado</th>\n",
       "      <td>8</td>\n",
       "      <td>1.4%</td>\n",
       "    </tr>\n",
       "  </tbody>\n",
       "</table>\n",
       "</div>"
      ],
      "text/plain": [
       "                        Sex      %\n",
       "Masculino               465  81.2%\n",
       "Feminino                100  17.4%\n",
       "Outro / NÃ£o Divulgado    8   1.4%"
      ]
     },
     "execution_count": 132,
     "metadata": {},
     "output_type": "execute_result"
    }
   ],
   "source": [
    "# Data Munging\n",
    "\n",
    "gender_demographics = gender_demographics.round(2)\n",
    "gender_demographics[\"%\"] = gender_demographics[\"%\"].map(\"{:,.1f}%\".format)\n",
    "\n",
    "gender_demographics"
   ]
  },
  {
   "cell_type": "raw",
   "metadata": {},
   "source": []
  },
  {
   "cell_type": "code",
   "execution_count": 231,
   "metadata": {},
   "outputs": [],
   "source": [
    "gender_total_item_price = df.groupby(['Sex']).sum()['Price'].rename('Total os Sales')\n",
    "gender_total_item_average = df.groupby(['Sex']).mean()['Price'].rename('Average Price')\n",
    "purchase_count = df.groupby(['Sex']).count()['Price'].rename('Number of Purchases')\n",
    "normalize_total = gender_total_item_price / gender_demographics['Sex']"
   ]
  },
  {
   "cell_type": "code",
   "execution_count": 134,
   "metadata": {},
   "outputs": [
    {
     "data": {
      "text/plain": [
       "Sex\n",
       "Feminino                   382.91\n",
       "Masculino                 1867.68\n",
       "Outro / NÃ£o Divulgado      35.74\n",
       "Name: Total os Sales, dtype: float64"
      ]
     },
     "execution_count": 134,
     "metadata": {},
     "output_type": "execute_result"
    }
   ],
   "source": [
    "gender_total_item_price"
   ]
  },
  {
   "cell_type": "code",
   "execution_count": 135,
   "metadata": {},
   "outputs": [
    {
     "data": {
      "text/plain": [
       "Sex\n",
       "Feminino                  2.815515\n",
       "Masculino                 2.950521\n",
       "Outro / NÃ£o Divulgado    3.249091\n",
       "Name: Average Price, dtype: float64"
      ]
     },
     "execution_count": 135,
     "metadata": {},
     "output_type": "execute_result"
    }
   ],
   "source": [
    "gender_total_item_average"
   ]
  },
  {
   "cell_type": "code",
   "execution_count": 136,
   "metadata": {},
   "outputs": [
    {
     "data": {
      "text/plain": [
       "Sex\n",
       "Feminino                  136\n",
       "Masculino                 633\n",
       "Outro / NÃ£o Divulgado     11\n",
       "Name: Number of Purchases, dtype: int64"
      ]
     },
     "execution_count": 136,
     "metadata": {},
     "output_type": "execute_result"
    }
   ],
   "source": [
    "purchase_count"
   ]
  },
  {
   "cell_type": "code",
   "execution_count": 137,
   "metadata": {},
   "outputs": [
    {
     "data": {
      "text/plain": [
       "Feminino                  3.829100\n",
       "Masculino                 4.016516\n",
       "Outro / NÃ£o Divulgado    4.467500\n",
       "dtype: float64"
      ]
     },
     "execution_count": 137,
     "metadata": {},
     "output_type": "execute_result"
    }
   ],
   "source": [
    "normalize_total"
   ]
  },
  {
   "cell_type": "code",
   "execution_count": 138,
   "metadata": {},
   "outputs": [
    {
     "data": {
      "text/html": [
       "<div>\n",
       "<style scoped>\n",
       "    .dataframe tbody tr th:only-of-type {\n",
       "        vertical-align: middle;\n",
       "    }\n",
       "\n",
       "    .dataframe tbody tr th {\n",
       "        vertical-align: top;\n",
       "    }\n",
       "\n",
       "    .dataframe thead th {\n",
       "        text-align: right;\n",
       "    }\n",
       "</style>\n",
       "<table border=\"1\" class=\"dataframe\">\n",
       "  <thead>\n",
       "    <tr style=\"text-align: right;\">\n",
       "      <th></th>\n",
       "      <th>Number of Purchases</th>\n",
       "      <th>Average Price per Item</th>\n",
       "      <th>Total os Sales</th>\n",
       "      <th>Normalized Total</th>\n",
       "    </tr>\n",
       "    <tr>\n",
       "      <th>Sex</th>\n",
       "      <th></th>\n",
       "      <th></th>\n",
       "      <th></th>\n",
       "      <th></th>\n",
       "    </tr>\n",
       "  </thead>\n",
       "  <tbody>\n",
       "    <tr>\n",
       "      <th>Feminino</th>\n",
       "      <td>136</td>\n",
       "      <td>2.815515</td>\n",
       "      <td>382.91</td>\n",
       "      <td>3.829100</td>\n",
       "    </tr>\n",
       "    <tr>\n",
       "      <th>Masculino</th>\n",
       "      <td>633</td>\n",
       "      <td>2.950521</td>\n",
       "      <td>1867.68</td>\n",
       "      <td>4.016516</td>\n",
       "    </tr>\n",
       "    <tr>\n",
       "      <th>Outro / NÃ£o Divulgado</th>\n",
       "      <td>11</td>\n",
       "      <td>3.249091</td>\n",
       "      <td>35.74</td>\n",
       "      <td>4.467500</td>\n",
       "    </tr>\n",
       "  </tbody>\n",
       "</table>\n",
       "</div>"
      ],
      "text/plain": [
       "                        Number of Purchases  Average Price per Item  \\\n",
       "Sex                                                                   \n",
       "Feminino                                136                2.815515   \n",
       "Masculino                               633                2.950521   \n",
       "Outro / NÃ£o Divulgado                   11                3.249091   \n",
       "\n",
       "                        Total os Sales  Normalized Total  \n",
       "Sex                                                       \n",
       "Feminino                        382.91          3.829100  \n",
       "Masculino                      1867.68          4.016516  \n",
       "Outro / NÃ£o Divulgado           35.74          4.467500  "
      ]
     },
     "execution_count": 138,
     "metadata": {},
     "output_type": "execute_result"
    }
   ],
   "source": [
    "# Dataframe for results\n",
    "\n",
    "gender_purchasing_analysis = pd.DataFrame({'Number of Purchases':purchase_count,\n",
    "                                          'Average Price per Item':gender_total_item_average,\n",
    "                                          'Total os Sales':gender_total_item_price,\n",
    "                                          'Normalized Total':normalize_total})\n",
    "gender_purchasing_analysis.head()"
   ]
  },
  {
   "cell_type": "markdown",
   "metadata": {},
   "source": [
    "## Most Popular Consumers (Top 5)"
   ]
  },
  {
   "cell_type": "code",
   "execution_count": 139,
   "metadata": {},
   "outputs": [],
   "source": [
    "# User dataset calculations\n",
    "user_total = df.groupby(['Login']).sum()['Price'].rename('Total Purchase Value')\n",
    "user_mean = df.groupby(['Login']).mean()['Price'].rename('Average Purchase Value')\n",
    "user_count = df.groupby(['Login']).count()['Price'].rename('Number of Purchases')"
   ]
  },
  {
   "cell_type": "code",
   "execution_count": 140,
   "metadata": {},
   "outputs": [
    {
     "data": {
      "text/plain": [
       "Total Purchase Value      object\n",
       "Average Purchase Value    object\n",
       "Number of Purchases        int64\n",
       "dtype: object"
      ]
     },
     "execution_count": 140,
     "metadata": {},
     "output_type": "execute_result"
    }
   ],
   "source": [
    "# Dataframe for results\n",
    "user_data = pd.DataFrame({'Total Purchase Value':user_total,\n",
    "                         'Average Purchase Value':user_mean,\n",
    "                         'Number of Purchases':user_count}) \n",
    "\n",
    "#The sorting should be used before the Data Muning, because after the data muning the formatted arrays became an object\n",
    "user_data = user_data.sort_values('Total Purchase Value', ascending=False)\n",
    "#user_data.dtypes\n",
    "\n",
    "# Data Munging\n",
    "user_data['Total Purchase Value'] = user_data['Total Purchase Value'].map('${:.2f}'.format)\n",
    "user_data['Average Purchase Value'] = user_data['Average Purchase Value'].map('${:.2f}'.format)\n",
    "\n",
    "user_data.dtypes"
   ]
  },
  {
   "cell_type": "code",
   "execution_count": 219,
   "metadata": {},
   "outputs": [
    {
     "data": {
      "text/html": [
       "<div>\n",
       "<style scoped>\n",
       "    .dataframe tbody tr th:only-of-type {\n",
       "        vertical-align: middle;\n",
       "    }\n",
       "\n",
       "    .dataframe tbody tr th {\n",
       "        vertical-align: top;\n",
       "    }\n",
       "\n",
       "    .dataframe thead th {\n",
       "        text-align: right;\n",
       "    }\n",
       "</style>\n",
       "<table border=\"1\" class=\"dataframe\">\n",
       "  <thead>\n",
       "    <tr style=\"text-align: right;\">\n",
       "      <th></th>\n",
       "      <th>Total Purchase Value</th>\n",
       "      <th>Average Purchase Value</th>\n",
       "      <th>Number of Purchases</th>\n",
       "    </tr>\n",
       "    <tr>\n",
       "      <th>Login</th>\n",
       "      <th></th>\n",
       "      <th></th>\n",
       "      <th></th>\n",
       "    </tr>\n",
       "  </thead>\n",
       "  <tbody>\n",
       "    <tr>\n",
       "      <th>Undirrala66</th>\n",
       "      <td>$17.06</td>\n",
       "      <td>$3.41</td>\n",
       "      <td>5</td>\n",
       "    </tr>\n",
       "    <tr>\n",
       "      <th>Saedue76</th>\n",
       "      <td>$13.56</td>\n",
       "      <td>$3.39</td>\n",
       "      <td>4</td>\n",
       "    </tr>\n",
       "    <tr>\n",
       "      <th>Mindimnya67</th>\n",
       "      <td>$12.74</td>\n",
       "      <td>$3.18</td>\n",
       "      <td>4</td>\n",
       "    </tr>\n",
       "    <tr>\n",
       "      <th>Haellysu29</th>\n",
       "      <td>$12.73</td>\n",
       "      <td>$4.24</td>\n",
       "      <td>3</td>\n",
       "    </tr>\n",
       "    <tr>\n",
       "      <th>Eoda93</th>\n",
       "      <td>$11.58</td>\n",
       "      <td>$3.86</td>\n",
       "      <td>3</td>\n",
       "    </tr>\n",
       "  </tbody>\n",
       "</table>\n",
       "</div>"
      ],
      "text/plain": [
       "            Total Purchase Value Average Purchase Value  Number of Purchases\n",
       "Login                                                                       \n",
       "Undirrala66               $17.06                  $3.41                    5\n",
       "Saedue76                  $13.56                  $3.39                    4\n",
       "Mindimnya67               $12.74                  $3.18                    4\n",
       "Haellysu29                $12.73                  $4.24                    3\n",
       "Eoda93                    $11.58                  $3.86                    3"
      ]
     },
     "execution_count": 219,
     "metadata": {},
     "output_type": "execute_result"
    }
   ],
   "source": [
    "user_data.head()"
   ]
  },
  {
   "cell_type": "markdown",
   "metadata": {},
   "source": [
    "## Most Popular Items"
   ]
  },
  {
   "cell_type": "code",
   "execution_count": 142,
   "metadata": {},
   "outputs": [
    {
     "data": {
      "text/html": [
       "<div>\n",
       "<style scoped>\n",
       "    .dataframe tbody tr th:only-of-type {\n",
       "        vertical-align: middle;\n",
       "    }\n",
       "\n",
       "    .dataframe tbody tr th {\n",
       "        vertical-align: top;\n",
       "    }\n",
       "\n",
       "    .dataframe thead th {\n",
       "        text-align: right;\n",
       "    }\n",
       "</style>\n",
       "<table border=\"1\" class=\"dataframe\">\n",
       "  <thead>\n",
       "    <tr style=\"text-align: right;\">\n",
       "      <th></th>\n",
       "      <th>Age</th>\n",
       "      <th>Item_ID</th>\n",
       "      <th>Login</th>\n",
       "      <th>Item_Name</th>\n",
       "      <th>Sex</th>\n",
       "      <th>Price</th>\n",
       "      <th>Age Range</th>\n",
       "    </tr>\n",
       "  </thead>\n",
       "  <tbody>\n",
       "    <tr>\n",
       "      <th>0</th>\n",
       "      <td>38</td>\n",
       "      <td>164</td>\n",
       "      <td>Aelalis34</td>\n",
       "      <td>Bone Crushing Silver Skewer</td>\n",
       "      <td>Masculino</td>\n",
       "      <td>3.37</td>\n",
       "      <td>35 to 39</td>\n",
       "    </tr>\n",
       "  </tbody>\n",
       "</table>\n",
       "</div>"
      ],
      "text/plain": [
       "   Age  Item_ID      Login                    Item_Name        Sex  Price  \\\n",
       "0   38      164  Aelalis34  Bone Crushing Silver Skewer  Masculino   3.37   \n",
       "\n",
       "  Age Range  \n",
       "0  35 to 39  "
      ]
     },
     "execution_count": 142,
     "metadata": {},
     "output_type": "execute_result"
    }
   ],
   "source": [
    "df.head(1)"
   ]
  },
  {
   "cell_type": "code",
   "execution_count": 143,
   "metadata": {},
   "outputs": [
    {
     "data": {
      "text/html": [
       "<div>\n",
       "<style scoped>\n",
       "    .dataframe tbody tr th:only-of-type {\n",
       "        vertical-align: middle;\n",
       "    }\n",
       "\n",
       "    .dataframe tbody tr th {\n",
       "        vertical-align: top;\n",
       "    }\n",
       "\n",
       "    .dataframe thead th {\n",
       "        text-align: right;\n",
       "    }\n",
       "</style>\n",
       "<table border=\"1\" class=\"dataframe\">\n",
       "  <thead>\n",
       "    <tr style=\"text-align: right;\">\n",
       "      <th></th>\n",
       "      <th>Total Purchase Value</th>\n",
       "      <th>Average Purchase Value</th>\n",
       "      <th>Number of Purchases</th>\n",
       "    </tr>\n",
       "    <tr>\n",
       "      <th>Item_Name</th>\n",
       "      <th></th>\n",
       "      <th></th>\n",
       "      <th></th>\n",
       "    </tr>\n",
       "  </thead>\n",
       "  <tbody>\n",
       "    <tr>\n",
       "      <th>Final Critic</th>\n",
       "      <td>$38.60</td>\n",
       "      <td>$2.76</td>\n",
       "      <td>14</td>\n",
       "    </tr>\n",
       "    <tr>\n",
       "      <th>Arcane Gem</th>\n",
       "      <td>$24.53</td>\n",
       "      <td>$2.23</td>\n",
       "      <td>11</td>\n",
       "    </tr>\n",
       "    <tr>\n",
       "      <th>Betrayal, Whisper of Grieving Widows</th>\n",
       "      <td>$25.85</td>\n",
       "      <td>$2.35</td>\n",
       "      <td>11</td>\n",
       "    </tr>\n",
       "    <tr>\n",
       "      <th>Stormcaller</th>\n",
       "      <td>$34.65</td>\n",
       "      <td>$3.46</td>\n",
       "      <td>10</td>\n",
       "    </tr>\n",
       "    <tr>\n",
       "      <th>Woeful Adamantite Claymore</th>\n",
       "      <td>$11.16</td>\n",
       "      <td>$1.24</td>\n",
       "      <td>9</td>\n",
       "    </tr>\n",
       "  </tbody>\n",
       "</table>\n",
       "</div>"
      ],
      "text/plain": [
       "                                     Total Purchase Value  \\\n",
       "Item_Name                                                   \n",
       "Final Critic                                       $38.60   \n",
       "Arcane Gem                                         $24.53   \n",
       "Betrayal, Whisper of Grieving Widows               $25.85   \n",
       "Stormcaller                                        $34.65   \n",
       "Woeful Adamantite Claymore                         $11.16   \n",
       "\n",
       "                                     Average Purchase Value  \\\n",
       "Item_Name                                                     \n",
       "Final Critic                                          $2.76   \n",
       "Arcane Gem                                            $2.23   \n",
       "Betrayal, Whisper of Grieving Widows                  $2.35   \n",
       "Stormcaller                                           $3.46   \n",
       "Woeful Adamantite Claymore                            $1.24   \n",
       "\n",
       "                                      Number of Purchases  \n",
       "Item_Name                                                  \n",
       "Final Critic                                           14  \n",
       "Arcane Gem                                             11  \n",
       "Betrayal, Whisper of Grieving Widows                   11  \n",
       "Stormcaller                                            10  \n",
       "Woeful Adamantite Claymore                              9  "
      ]
     },
     "execution_count": 143,
     "metadata": {},
     "output_type": "execute_result"
    }
   ],
   "source": [
    "# User dataset calculations\n",
    "product_total = df.groupby(['Item_Name']).sum()['Price'].rename('Total Purchase Value')\n",
    "product_average = df.groupby(['Item_Name']).mean()['Price'].rename('Average Purchase Value')\n",
    "product_count = df.groupby(['Item_Name']).count()['Item_ID'].rename('Number of Purchases')\n",
    "\n",
    "# Dataframe for results\n",
    "\n",
    "product_data = pd.DataFrame({'Total Purchase Value':product_total,\n",
    "                            'Average Purchase Value':product_average,\n",
    "                            'Number of Purchases':product_count})\n",
    "\n",
    "\n",
    "#Data muning\n",
    "\n",
    "product_data['Total Purchase Value'] = product_data['Total Purchase Value'].map('${:.2f}'.format)\n",
    "product_data['Average Purchase Value'] = product_data['Average Purchase Value'].map('${:.2f}'.format)\n",
    "\n",
    "\n",
    "\n",
    "# For the sorting by 'Number of Purchases' is possible to do affter the data muning, because this is a int64\n",
    "\n",
    "#TOP 5 selling products\n",
    "product_data.sort_values('Number of Purchases', ascending=False).head()\n",
    "#product_data.dtypes"
   ]
  },
  {
   "cell_type": "markdown",
   "metadata": {},
   "source": [
    "## Most Profitable Items"
   ]
  },
  {
   "cell_type": "code",
   "execution_count": 144,
   "metadata": {},
   "outputs": [],
   "source": [
    "# User dataset calculations\n",
    "product_total = df.groupby(['Item_Name']).sum()['Price'].rename('Total Purchase Value')\n",
    "product_average = df.groupby(['Item_Name']).mean()['Price'].rename('Average Purchase Value')\n",
    "product_count = df.groupby(['Item_Name']).count()['Item_ID'].rename('Number of Purchases')\n",
    "\n",
    "# Dataframe for results\n",
    "\n",
    "product_data = pd.DataFrame({'Total Purchase Value':product_total,\n",
    "                            'Average Purchase Value':product_average,\n",
    "                            'Number of Purchases':product_count})\n",
    "#Sorting\n",
    "product_data = product_data.sort_values('Total Purchase Value', ascending=False)\n",
    "\n",
    "#Data muning\n",
    "\n",
    "product_data['Total Purchase Value'] = product_data['Total Purchase Value'].map('${:.2f}'.format)\n",
    "product_data['Average Purchase Value'] = product_data['Average Purchase Value'].map('${:.2f}'.format)\n"
   ]
  },
  {
   "cell_type": "code",
   "execution_count": 145,
   "metadata": {},
   "outputs": [
    {
     "data": {
      "text/html": [
       "<div>\n",
       "<style scoped>\n",
       "    .dataframe tbody tr th:only-of-type {\n",
       "        vertical-align: middle;\n",
       "    }\n",
       "\n",
       "    .dataframe tbody tr th {\n",
       "        vertical-align: top;\n",
       "    }\n",
       "\n",
       "    .dataframe thead th {\n",
       "        text-align: right;\n",
       "    }\n",
       "</style>\n",
       "<table border=\"1\" class=\"dataframe\">\n",
       "  <thead>\n",
       "    <tr style=\"text-align: right;\">\n",
       "      <th></th>\n",
       "      <th>Total Purchase Value</th>\n",
       "      <th>Average Purchase Value</th>\n",
       "      <th>Number of Purchases</th>\n",
       "    </tr>\n",
       "    <tr>\n",
       "      <th>Item_Name</th>\n",
       "      <th></th>\n",
       "      <th></th>\n",
       "      <th></th>\n",
       "    </tr>\n",
       "  </thead>\n",
       "  <tbody>\n",
       "    <tr>\n",
       "      <th>Final Critic</th>\n",
       "      <td>$38.60</td>\n",
       "      <td>$2.76</td>\n",
       "      <td>14</td>\n",
       "    </tr>\n",
       "    <tr>\n",
       "      <th>Retribution Axe</th>\n",
       "      <td>$37.26</td>\n",
       "      <td>$4.14</td>\n",
       "      <td>9</td>\n",
       "    </tr>\n",
       "    <tr>\n",
       "      <th>Stormcaller</th>\n",
       "      <td>$34.65</td>\n",
       "      <td>$3.46</td>\n",
       "      <td>10</td>\n",
       "    </tr>\n",
       "    <tr>\n",
       "      <th>Spectral Diamond Doomblade</th>\n",
       "      <td>$29.75</td>\n",
       "      <td>$4.25</td>\n",
       "      <td>7</td>\n",
       "    </tr>\n",
       "    <tr>\n",
       "      <th>Orenmir</th>\n",
       "      <td>$29.70</td>\n",
       "      <td>$4.95</td>\n",
       "      <td>6</td>\n",
       "    </tr>\n",
       "  </tbody>\n",
       "</table>\n",
       "</div>"
      ],
      "text/plain": [
       "                           Total Purchase Value Average Purchase Value  \\\n",
       "Item_Name                                                                \n",
       "Final Critic                             $38.60                  $2.76   \n",
       "Retribution Axe                          $37.26                  $4.14   \n",
       "Stormcaller                              $34.65                  $3.46   \n",
       "Spectral Diamond Doomblade               $29.75                  $4.25   \n",
       "Orenmir                                  $29.70                  $4.95   \n",
       "\n",
       "                            Number of Purchases  \n",
       "Item_Name                                        \n",
       "Final Critic                                 14  \n",
       "Retribution Axe                               9  \n",
       "Stormcaller                                  10  \n",
       "Spectral Diamond Doomblade                    7  \n",
       "Orenmir                                       6  "
      ]
     },
     "execution_count": 145,
     "metadata": {},
     "output_type": "execute_result"
    }
   ],
   "source": [
    "#YOP 5 Most Profitable Items\n",
    "product_data.head()"
   ]
  },
  {
   "cell_type": "markdown",
   "metadata": {},
   "source": [
    "# Grafical analysis"
   ]
  },
  {
   "cell_type": "code",
   "execution_count": 188,
   "metadata": {},
   "outputs": [],
   "source": [
    "import seaborn as sns\n",
    "import matplotlib.pyplot as plt\n",
    "from pylab import *\n",
    "%matplotlib inline"
   ]
  },
  {
   "cell_type": "code",
   "execution_count": 189,
   "metadata": {},
   "outputs": [],
   "source": [
    "i = pd.DataFrame(unique_consumer['Sex'].value_counts())\n",
    "i = i.rename({'Masculino':'Male', 'Feminino':'Female', 'Outro / NÃ£o Divulgado': 'Uninformed'})"
   ]
  },
  {
   "cell_type": "code",
   "execution_count": 192,
   "metadata": {},
   "outputs": [
    {
     "data": {
      "image/png": "[encoded data removed]",
      "text/plain": [
       "<Figure size 720x360 with 2 Axes>"
      ]
     },
     "metadata": {
      "needs_background": "light"
     },
     "output_type": "display_data"
    }
   ],
   "source": [
    "fig = plt.figure(figsize=(10, 5))\n",
    "fig.suptitle('The Distinction of Buyers by Gender', size=15)\n",
    "\n",
    "\n",
    "ax1 = fig.add_subplot(1,2,1) #add_subplot(nrows, ncols, index, **kwargs)\n",
    "ax1 = plt.bar(i.index, i['Sex'], color=(\"goldenrod\", 'khaki', 'grey'))\n",
    "ax1 = plt.xticks(rotation=40, horizontalalignment=('right'))\n",
    "\n",
    "\n",
    "ax2 = fig.add_subplot(1,2,2)\n",
    "ax2 = plt.pie(i['Sex'], labels = i.index, colors = (\"goldenrod\", 'khaki', 'grey'), startangle=80)\n",
    "\n",
    "plt.show()\n"
   ]
  },
  {
   "cell_type": "markdown",
   "metadata": {},
   "source": [
    "\"Score\": age_demographic_count, \n",
    "                                 \"%\": age_demographic_percent,\n",
    "                                 \"Value per Unit\": age_demographic_average_item_price, \n",
    "                                 \"Total Purchase Value\": age_demographic_total_item_price}"
   ]
  },
  {
   "cell_type": "code",
   "execution_count": 149,
   "metadata": {},
   "outputs": [
    {
     "data": {
      "image/png": "[encoded data removed]",
      "text/plain": [
       "<Figure size 432x288 with 1 Axes>"
      ]
     },
     "metadata": {
      "needs_background": "light"
     },
     "output_type": "display_data"
    }
   ],
   "source": [
    "percent_by_age = plt.Figure(figsize=(10,5))\n",
    "age_demographic_percent.plot(kind='bar', color='olive')\n",
    "plt.ylabel('%', size=15)\n",
    "plt.title('Percentage consumed by age group', pad=15, size=15)\n",
    "\n",
    "\n",
    "plt.show()"
   ]
  },
  {
   "cell_type": "code",
   "execution_count": 150,
   "metadata": {},
   "outputs": [
    {
     "data": {
      "image/png": "[encoded data removed]",
      "text/plain": [
       "<Figure size 720x360 with 2 Axes>"
      ]
     },
     "metadata": {
      "needs_background": "light"
     },
     "output_type": "display_data"
    }
   ],
   "source": [
    "fig = plt.figure(figsize=(10,5))\n",
    "\n",
    "#Green chat\n",
    "ax1 = fig.add_subplot(1,2,1)\n",
    "ax1 = sns.barplot(x=age_demographic_total_item_price.index, y=age_demographic_total_item_price, palette='summer')\n",
    "plt.xticks(rotation=40, horizontalalignment='right', size=12)\n",
    "plt.ylabel('Money spent ($)', size=15)\n",
    "plt.title('Money spent by age group', pad=15, size=12)\n",
    "plt.xlabel('')\n",
    "\n",
    "#Brown chart\n",
    "ax2 = fig.add_subplot(1,2,2)\n",
    "ax2 = sns.barplot(x=age_demographic_percent.index, y=age_demographic_percent, palette='copper')\n",
    "plt.xticks(rotation=40, horizontalalignment='right', size=12)\n",
    "plt.ylabel('(%)', size=15)\n",
    "plt.title('Percentage consumed by age group', pad=15, size=12)\n",
    "ax2.yaxis.set_ticks_position('right')\n",
    "ax2.yaxis.set_label_position('right')\n",
    "\n",
    "\n"
   ]
  },
  {
   "cell_type": "code",
   "execution_count": 152,
   "metadata": {},
   "outputs": [
    {
     "data": {
      "text/html": [
       "<div>\n",
       "<style scoped>\n",
       "    .dataframe tbody tr th:only-of-type {\n",
       "        vertical-align: middle;\n",
       "    }\n",
       "\n",
       "    .dataframe tbody tr th {\n",
       "        vertical-align: top;\n",
       "    }\n",
       "\n",
       "    .dataframe thead th {\n",
       "        text-align: right;\n",
       "    }\n",
       "</style>\n",
       "<table border=\"1\" class=\"dataframe\">\n",
       "  <thead>\n",
       "    <tr style=\"text-align: right;\">\n",
       "      <th></th>\n",
       "      <th>Score</th>\n",
       "      <th>%</th>\n",
       "      <th>Value per Unit</th>\n",
       "      <th>Total Purchase Value</th>\n",
       "    </tr>\n",
       "    <tr>\n",
       "      <th>Age Range</th>\n",
       "      <th></th>\n",
       "      <th></th>\n",
       "      <th></th>\n",
       "      <th></th>\n",
       "    </tr>\n",
       "  </thead>\n",
       "  <tbody>\n",
       "    <tr>\n",
       "      <th>Less than 10</th>\n",
       "      <td>28</td>\n",
       "      <td>3.59%</td>\n",
       "      <td>$2.98</td>\n",
       "      <td>$83.46</td>\n",
       "    </tr>\n",
       "    <tr>\n",
       "      <th>10 to 14</th>\n",
       "      <td>35</td>\n",
       "      <td>4.49%</td>\n",
       "      <td>$2.77</td>\n",
       "      <td>$96.95</td>\n",
       "    </tr>\n",
       "    <tr>\n",
       "      <th>15 to 19</th>\n",
       "      <td>133</td>\n",
       "      <td>17.05%</td>\n",
       "      <td>$2.91</td>\n",
       "      <td>$386.42</td>\n",
       "    </tr>\n",
       "    <tr>\n",
       "      <th>20 to 24</th>\n",
       "      <td>336</td>\n",
       "      <td>43.08%</td>\n",
       "      <td>$2.91</td>\n",
       "      <td>$978.77</td>\n",
       "    </tr>\n",
       "    <tr>\n",
       "      <th>25 to 29</th>\n",
       "      <td>125</td>\n",
       "      <td>16.03%</td>\n",
       "      <td>$2.96</td>\n",
       "      <td>$370.33</td>\n",
       "    </tr>\n",
       "    <tr>\n",
       "      <th>30 to 34</th>\n",
       "      <td>64</td>\n",
       "      <td>8.21%</td>\n",
       "      <td>$3.08</td>\n",
       "      <td>$197.25</td>\n",
       "    </tr>\n",
       "    <tr>\n",
       "      <th>35 to 39</th>\n",
       "      <td>42</td>\n",
       "      <td>5.38%</td>\n",
       "      <td>$2.84</td>\n",
       "      <td>$119.40</td>\n",
       "    </tr>\n",
       "    <tr>\n",
       "      <th>Higher than 40</th>\n",
       "      <td>17</td>\n",
       "      <td>2.18%</td>\n",
       "      <td>$3.16</td>\n",
       "      <td>$53.75</td>\n",
       "    </tr>\n",
       "  </tbody>\n",
       "</table>\n",
       "</div>"
      ],
      "text/plain": [
       "                Score       % Value per Unit Total Purchase Value\n",
       "Age Range                                                        \n",
       "Less than 10       28   3.59%          $2.98               $83.46\n",
       "10 to 14           35   4.49%          $2.77               $96.95\n",
       "15 to 19          133  17.05%          $2.91              $386.42\n",
       "20 to 24          336  43.08%          $2.91              $978.77\n",
       "25 to 29          125  16.03%          $2.96              $370.33\n",
       "30 to 34           64   8.21%          $3.08              $197.25\n",
       "35 to 39           42   5.38%          $2.84              $119.40\n",
       "Higher than 40     17   2.18%          $3.16               $53.75"
      ]
     },
     "execution_count": 152,
     "metadata": {},
     "output_type": "execute_result"
    }
   ],
   "source": [
    "age_demographic"
   ]
  },
  {
   "cell_type": "markdown",
   "metadata": {},
   "source": [
    "Number of Purchases\n",
    "\n",
    "\n",
    "product_data = pd.DataFrame({'Total Purchase Value':product_total,\n",
    "                            'Average Purchase Value':product_average,\n",
    "                            'Number of Purchases':product_count})"
   ]
  },
  {
   "cell_type": "code",
   "execution_count": 153,
   "metadata": {},
   "outputs": [
    {
     "data": {
      "text/plain": [
       "Item_Name\n",
       "Final Critic                  38.60\n",
       "Retribution Axe               37.26\n",
       "Stormcaller                   34.65\n",
       "Spectral Diamond Doomblade    29.75\n",
       "Orenmir                       29.70\n",
       "Name: Total Purchase Value, dtype: float64"
      ]
     },
     "execution_count": 153,
     "metadata": {},
     "output_type": "execute_result"
    }
   ],
   "source": [
    "product_total[product_total>29.6].sort_values(ascending=False)"
   ]
  },
  {
   "cell_type": "code",
   "execution_count": 154,
   "metadata": {},
   "outputs": [
    {
     "data": {
      "text/plain": [
       "Item_Name\n",
       "Final Critic                  14\n",
       "Retribution Axe                9\n",
       "Stormcaller                   10\n",
       "Spectral Diamond Doomblade     7\n",
       "Orenmir                        6\n",
       "Name: Number of Purchases, dtype: int64"
      ]
     },
     "execution_count": 154,
     "metadata": {},
     "output_type": "execute_result"
    }
   ],
   "source": [
    "i = product_data['Number of Purchases'][0:5]\n",
    "i"
   ]
  },
  {
   "cell_type": "code",
   "execution_count": 155,
   "metadata": {},
   "outputs": [
    {
     "data": {
      "image/png": "[encoded data removed]",
      "text/plain": [
       "<Figure size 432x288 with 1 Axes>"
      ]
     },
     "metadata": {
      "needs_background": "light"
     },
     "output_type": "display_data"
    }
   ],
   "source": [
    "j = product_total[product_total>29.6].sort_values(ascending=False)\n",
    "\n",
    "#Green bar - Value $\n",
    "sns.barplot(x=j.index, y=j, color='#50e03a')\n",
    "\n",
    "#Grey bar - Number of Purchases\n",
    "sns.barplot(x=i.index, y=i, color='#a3acff', edgecolor='white')\n",
    "\n",
    "\n",
    "plt.xticks(rotation=40, size=12, horizontalalignment='right')\n",
    "plt.xlabel('')\n",
    "plt.ylabel('Total Purchase Value ($)', size=12)\n",
    "plt.title('Top 5 products', size=15, pad=15)\n",
    "\n",
    "plt.show()\n"
   ]
  },
  {
   "cell_type": "code",
   "execution_count": 156,
   "metadata": {},
   "outputs": [
    {
     "data": {
      "image/png": "[encoded data removed]",
      "text/plain": [
       "<Figure size 432x288 with 2 Axes>"
      ]
     },
     "metadata": {
      "needs_background": "light"
     },
     "output_type": "display_data"
    }
   ],
   "source": [
    "fig_2, axes = subplots(ncols=2, sharey=True)\n",
    "plt.subplots_adjust(wspace=0)\n",
    "\n",
    "\n",
    "#increse the size in the Y tick\n",
    "axes[0].tick_params(axis = 'y', labelsize = 12)\n",
    "\n",
    "\n",
    "\n",
    "#Green bar - Value $\n",
    "sns.barplot(y=j.index, x=j, color='#50e03a', ax=axes[0])\n",
    "\n",
    "#Grey - count intem\n",
    "sns.barplot(y=i.index, x=i, color='#a3acff', ax=axes[1])\n",
    "\n",
    "#invert the frist chart\n",
    "axes[0].invert_xaxis()\n",
    "\n",
    "\n",
    "\n",
    "#show tick labels in the middle\n",
    "#axes[0].yaxis.tick_right()\n",
    "\n",
    "#Labels\n",
    "axes[0].set_title('Value ($)', size=15, pad=15)\n",
    "axes[1].set_title('Item', size=15, pad=15)\n",
    "\n",
    "axes[0].set(ylabel='')\n",
    "axes[1].set(ylabel='')\n",
    "\n",
    "\n",
    "plt.show()\n",
    "\n"
   ]
  },
  {
   "cell_type": "code",
   "execution_count": 157,
   "metadata": {},
   "outputs": [
    {
     "data": {
      "text/html": [
       "<div>\n",
       "<style scoped>\n",
       "    .dataframe tbody tr th:only-of-type {\n",
       "        vertical-align: middle;\n",
       "    }\n",
       "\n",
       "    .dataframe tbody tr th {\n",
       "        vertical-align: top;\n",
       "    }\n",
       "\n",
       "    .dataframe thead th {\n",
       "        text-align: right;\n",
       "    }\n",
       "</style>\n",
       "<table border=\"1\" class=\"dataframe\">\n",
       "  <thead>\n",
       "    <tr style=\"text-align: right;\">\n",
       "      <th></th>\n",
       "      <th>Total Purchase Value</th>\n",
       "      <th>Average Purchase Value</th>\n",
       "      <th>Number of Purchases</th>\n",
       "    </tr>\n",
       "    <tr>\n",
       "      <th>Item_Name</th>\n",
       "      <th></th>\n",
       "      <th></th>\n",
       "      <th></th>\n",
       "    </tr>\n",
       "  </thead>\n",
       "  <tbody>\n",
       "    <tr>\n",
       "      <th>Final Critic</th>\n",
       "      <td>$38.60</td>\n",
       "      <td>$2.76</td>\n",
       "      <td>14</td>\n",
       "    </tr>\n",
       "    <tr>\n",
       "      <th>Retribution Axe</th>\n",
       "      <td>$37.26</td>\n",
       "      <td>$4.14</td>\n",
       "      <td>9</td>\n",
       "    </tr>\n",
       "    <tr>\n",
       "      <th>Stormcaller</th>\n",
       "      <td>$34.65</td>\n",
       "      <td>$3.46</td>\n",
       "      <td>10</td>\n",
       "    </tr>\n",
       "    <tr>\n",
       "      <th>Spectral Diamond Doomblade</th>\n",
       "      <td>$29.75</td>\n",
       "      <td>$4.25</td>\n",
       "      <td>7</td>\n",
       "    </tr>\n",
       "    <tr>\n",
       "      <th>Orenmir</th>\n",
       "      <td>$29.70</td>\n",
       "      <td>$4.95</td>\n",
       "      <td>6</td>\n",
       "    </tr>\n",
       "  </tbody>\n",
       "</table>\n",
       "</div>"
      ],
      "text/plain": [
       "                           Total Purchase Value Average Purchase Value  \\\n",
       "Item_Name                                                                \n",
       "Final Critic                             $38.60                  $2.76   \n",
       "Retribution Axe                          $37.26                  $4.14   \n",
       "Stormcaller                              $34.65                  $3.46   \n",
       "Spectral Diamond Doomblade               $29.75                  $4.25   \n",
       "Orenmir                                  $29.70                  $4.95   \n",
       "\n",
       "                            Number of Purchases  \n",
       "Item_Name                                        \n",
       "Final Critic                                 14  \n",
       "Retribution Axe                               9  \n",
       "Stormcaller                                  10  \n",
       "Spectral Diamond Doomblade                    7  \n",
       "Orenmir                                       6  "
      ]
     },
     "execution_count": 157,
     "metadata": {},
     "output_type": "execute_result"
    }
   ],
   "source": [
    "#Top five producs (sorted by Total Purchase Value)\n",
    "product_data.head()"
   ]
  },
  {
   "cell_type": "raw",
   "metadata": {},
   "source": [
    "Preparando os dados de usuarios para análise grafica\n",
    "Criando uma Master table com user data e calculos matematicos sobre usiario e consumo"
   ]
  },
  {
   "cell_type": "code",
   "execution_count": 158,
   "metadata": {},
   "outputs": [
    {
     "data": {
      "text/html": [
       "<div>\n",
       "<style scoped>\n",
       "    .dataframe tbody tr th:only-of-type {\n",
       "        vertical-align: middle;\n",
       "    }\n",
       "\n",
       "    .dataframe tbody tr th {\n",
       "        vertical-align: top;\n",
       "    }\n",
       "\n",
       "    .dataframe thead th {\n",
       "        text-align: right;\n",
       "    }\n",
       "</style>\n",
       "<table border=\"1\" class=\"dataframe\">\n",
       "  <thead>\n",
       "    <tr style=\"text-align: right;\">\n",
       "      <th></th>\n",
       "      <th>Login</th>\n",
       "      <th>Total Purchase Value</th>\n",
       "      <th>Average Purchase Value</th>\n",
       "      <th>Number of Purchases</th>\n",
       "    </tr>\n",
       "  </thead>\n",
       "  <tbody>\n",
       "    <tr>\n",
       "      <th>403</th>\n",
       "      <td>Adairialis76</td>\n",
       "      <td>$2.46</td>\n",
       "      <td>$2.46</td>\n",
       "      <td>1</td>\n",
       "    </tr>\n",
       "    <tr>\n",
       "      <th>69</th>\n",
       "      <td>Aduephos78</td>\n",
       "      <td>$6.70</td>\n",
       "      <td>$2.23</td>\n",
       "      <td>3</td>\n",
       "    </tr>\n",
       "    <tr>\n",
       "      <th>102</th>\n",
       "      <td>Aeduera68</td>\n",
       "      <td>$5.80</td>\n",
       "      <td>$1.93</td>\n",
       "      <td>3</td>\n",
       "    </tr>\n",
       "    <tr>\n",
       "      <th>401</th>\n",
       "      <td>Aela49</td>\n",
       "      <td>$2.46</td>\n",
       "      <td>$2.46</td>\n",
       "      <td>1</td>\n",
       "    </tr>\n",
       "    <tr>\n",
       "      <th>550</th>\n",
       "      <td>Aela59</td>\n",
       "      <td>$1.27</td>\n",
       "      <td>$1.27</td>\n",
       "      <td>1</td>\n",
       "    </tr>\n",
       "  </tbody>\n",
       "</table>\n",
       "</div>"
      ],
      "text/plain": [
       "            Login Total Purchase Value Average Purchase Value  \\\n",
       "403  Adairialis76                $2.46                  $2.46   \n",
       "69     Aduephos78                $6.70                  $2.23   \n",
       "102     Aeduera68                $5.80                  $1.93   \n",
       "401        Aela49                $2.46                  $2.46   \n",
       "550        Aela59                $1.27                  $1.27   \n",
       "\n",
       "     Number of Purchases  \n",
       "403                    1  \n",
       "69                     3  \n",
       "102                    3  \n",
       "401                    1  \n",
       "550                    1  "
      ]
     },
     "execution_count": 158,
     "metadata": {},
     "output_type": "execute_result"
    }
   ],
   "source": [
    "user = user_data.reset_index()\n",
    "user = user.sort_values('Login')\n",
    "user.head()"
   ]
  },
  {
   "cell_type": "code",
   "execution_count": 159,
   "metadata": {},
   "outputs": [
    {
     "data": {
      "text/html": [
       "<div>\n",
       "<style scoped>\n",
       "    .dataframe tbody tr th:only-of-type {\n",
       "        vertical-align: middle;\n",
       "    }\n",
       "\n",
       "    .dataframe tbody tr th {\n",
       "        vertical-align: top;\n",
       "    }\n",
       "\n",
       "    .dataframe thead th {\n",
       "        text-align: right;\n",
       "    }\n",
       "</style>\n",
       "<table border=\"1\" class=\"dataframe\">\n",
       "  <thead>\n",
       "    <tr style=\"text-align: right;\">\n",
       "      <th></th>\n",
       "      <th>Age</th>\n",
       "      <th>Item_ID</th>\n",
       "      <th>Login</th>\n",
       "      <th>Item_Name</th>\n",
       "      <th>Sex</th>\n",
       "      <th>Price</th>\n",
       "      <th>Age Range</th>\n",
       "    </tr>\n",
       "  </thead>\n",
       "  <tbody>\n",
       "    <tr>\n",
       "      <th>144</th>\n",
       "      <td>20</td>\n",
       "      <td>44</td>\n",
       "      <td>Adairialis76</td>\n",
       "      <td>Bonecarvin Battle Axe</td>\n",
       "      <td>Masculino</td>\n",
       "      <td>2.46</td>\n",
       "      <td>20 to 24</td>\n",
       "    </tr>\n",
       "    <tr>\n",
       "      <th>308</th>\n",
       "      <td>37</td>\n",
       "      <td>79</td>\n",
       "      <td>Aduephos78</td>\n",
       "      <td>Alpha, Oath of Zeal</td>\n",
       "      <td>Masculino</td>\n",
       "      <td>2.88</td>\n",
       "      <td>35 to 39</td>\n",
       "    </tr>\n",
       "    <tr>\n",
       "      <th>224</th>\n",
       "      <td>26</td>\n",
       "      <td>106</td>\n",
       "      <td>Aeduera68</td>\n",
       "      <td>Crying Steel Sickle</td>\n",
       "      <td>Masculino</td>\n",
       "      <td>2.29</td>\n",
       "      <td>25 to 29</td>\n",
       "    </tr>\n",
       "    <tr>\n",
       "      <th>394</th>\n",
       "      <td>25</td>\n",
       "      <td>44</td>\n",
       "      <td>Aela49</td>\n",
       "      <td>Bonecarvin Battle Axe</td>\n",
       "      <td>Masculino</td>\n",
       "      <td>2.46</td>\n",
       "      <td>25 to 29</td>\n",
       "    </tr>\n",
       "    <tr>\n",
       "      <th>4</th>\n",
       "      <td>23</td>\n",
       "      <td>63</td>\n",
       "      <td>Aela59</td>\n",
       "      <td>Stormfury Mace</td>\n",
       "      <td>Masculino</td>\n",
       "      <td>1.27</td>\n",
       "      <td>20 to 24</td>\n",
       "    </tr>\n",
       "  </tbody>\n",
       "</table>\n",
       "</div>"
      ],
      "text/plain": [
       "     Age  Item_ID         Login              Item_Name        Sex  Price  \\\n",
       "144   20       44  Adairialis76  Bonecarvin Battle Axe  Masculino   2.46   \n",
       "308   37       79    Aduephos78    Alpha, Oath of Zeal  Masculino   2.88   \n",
       "224   26      106     Aeduera68    Crying Steel Sickle  Masculino   2.29   \n",
       "394   25       44        Aela49  Bonecarvin Battle Axe  Masculino   2.46   \n",
       "4     23       63        Aela59         Stormfury Mace  Masculino   1.27   \n",
       "\n",
       "    Age Range  \n",
       "144  20 to 24  \n",
       "308  35 to 39  \n",
       "224  25 to 29  \n",
       "394  25 to 29  \n",
       "4    20 to 24  "
      ]
     },
     "execution_count": 159,
     "metadata": {},
     "output_type": "execute_result"
    }
   ],
   "source": [
    "df2=df.drop_duplicates('Login')\n",
    "df2=df2.sort_values('Login')\n",
    "df2.head()"
   ]
  },
  {
   "cell_type": "code",
   "execution_count": 204,
   "metadata": {},
   "outputs": [
    {
     "data": {
      "text/html": [
       "<div>\n",
       "<style scoped>\n",
       "    .dataframe tbody tr th:only-of-type {\n",
       "        vertical-align: middle;\n",
       "    }\n",
       "\n",
       "    .dataframe tbody tr th {\n",
       "        vertical-align: top;\n",
       "    }\n",
       "\n",
       "    .dataframe thead th {\n",
       "        text-align: right;\n",
       "    }\n",
       "</style>\n",
       "<table border=\"1\" class=\"dataframe\">\n",
       "  <thead>\n",
       "    <tr style=\"text-align: right;\">\n",
       "      <th></th>\n",
       "      <th>Login</th>\n",
       "      <th>Total Purchase Value</th>\n",
       "      <th>Average Purchase Value</th>\n",
       "      <th>Number of Purchases</th>\n",
       "      <th>Age</th>\n",
       "      <th>Item_ID</th>\n",
       "      <th>Item_Name</th>\n",
       "      <th>Sex</th>\n",
       "      <th>Price</th>\n",
       "      <th>Age Range</th>\n",
       "    </tr>\n",
       "  </thead>\n",
       "  <tbody>\n",
       "    <tr>\n",
       "      <th>403</th>\n",
       "      <td>Adairialis76</td>\n",
       "      <td>$2.46</td>\n",
       "      <td>$2.46</td>\n",
       "      <td>1</td>\n",
       "      <td>20</td>\n",
       "      <td>44</td>\n",
       "      <td>Bonecarvin Battle Axe</td>\n",
       "      <td>Masculino</td>\n",
       "      <td>2.46</td>\n",
       "      <td>20 to 24</td>\n",
       "    </tr>\n",
       "    <tr>\n",
       "      <th>69</th>\n",
       "      <td>Aduephos78</td>\n",
       "      <td>$6.70</td>\n",
       "      <td>$2.23</td>\n",
       "      <td>3</td>\n",
       "      <td>37</td>\n",
       "      <td>79</td>\n",
       "      <td>Alpha, Oath of Zeal</td>\n",
       "      <td>Masculino</td>\n",
       "      <td>2.88</td>\n",
       "      <td>35 to 39</td>\n",
       "    </tr>\n",
       "    <tr>\n",
       "      <th>102</th>\n",
       "      <td>Aeduera68</td>\n",
       "      <td>$5.80</td>\n",
       "      <td>$1.93</td>\n",
       "      <td>3</td>\n",
       "      <td>26</td>\n",
       "      <td>106</td>\n",
       "      <td>Crying Steel Sickle</td>\n",
       "      <td>Masculino</td>\n",
       "      <td>2.29</td>\n",
       "      <td>25 to 29</td>\n",
       "    </tr>\n",
       "    <tr>\n",
       "      <th>401</th>\n",
       "      <td>Aela49</td>\n",
       "      <td>$2.46</td>\n",
       "      <td>$2.46</td>\n",
       "      <td>1</td>\n",
       "      <td>25</td>\n",
       "      <td>44</td>\n",
       "      <td>Bonecarvin Battle Axe</td>\n",
       "      <td>Masculino</td>\n",
       "      <td>2.46</td>\n",
       "      <td>25 to 29</td>\n",
       "    </tr>\n",
       "    <tr>\n",
       "      <th>550</th>\n",
       "      <td>Aela59</td>\n",
       "      <td>$1.27</td>\n",
       "      <td>$1.27</td>\n",
       "      <td>1</td>\n",
       "      <td>23</td>\n",
       "      <td>63</td>\n",
       "      <td>Stormfury Mace</td>\n",
       "      <td>Masculino</td>\n",
       "      <td>1.27</td>\n",
       "      <td>20 to 24</td>\n",
       "    </tr>\n",
       "  </tbody>\n",
       "</table>\n",
       "</div>"
      ],
      "text/plain": [
       "            Login Total Purchase Value Average Purchase Value  \\\n",
       "403  Adairialis76                $2.46                  $2.46   \n",
       "69     Aduephos78                $6.70                  $2.23   \n",
       "102     Aeduera68                $5.80                  $1.93   \n",
       "401        Aela49                $2.46                  $2.46   \n",
       "550        Aela59                $1.27                  $1.27   \n",
       "\n",
       "     Number of Purchases  Age  Item_ID              Item_Name        Sex  \\\n",
       "403                    1   20       44  Bonecarvin Battle Axe  Masculino   \n",
       "69                     3   37       79    Alpha, Oath of Zeal  Masculino   \n",
       "102                    3   26      106    Crying Steel Sickle  Masculino   \n",
       "401                    1   25       44  Bonecarvin Battle Axe  Masculino   \n",
       "550                    1   23       63         Stormfury Mace  Masculino   \n",
       "\n",
       "     Price Age Range  \n",
       "403   2.46  20 to 24  \n",
       "69    2.88  35 to 39  \n",
       "102   2.29  25 to 29  \n",
       "401   2.46  25 to 29  \n",
       "550   1.27  20 to 24  "
      ]
     },
     "execution_count": 204,
     "metadata": {},
     "output_type": "execute_result"
    }
   ],
   "source": [
    "user_master_data = user.join(df2.set_index('Login'), on='Login' )\n",
    "user_master_data.head()\n"
   ]
  },
  {
   "cell_type": "code",
   "execution_count": 161,
   "metadata": {},
   "outputs": [],
   "source": [
    "# Function that will remove the comma from the price values \n",
    "# https://pbpython.com/currency-cleanup.html\n",
    "def clean_currency(x):\n",
    "    \"\"\" If the value is a string, then remove currency symbol and delimiters\n",
    "    otherwise, the value is numeric and can be converted\n",
    "    \"\"\"\n",
    "    if isinstance(x, str):\n",
    "        return(x.replace('$', ''))\n",
    "    return(x)\n"
   ]
  },
  {
   "cell_type": "code",
   "execution_count": 203,
   "metadata": {},
   "outputs": [
    {
     "data": {
      "text/html": [
       "<div>\n",
       "<style scoped>\n",
       "    .dataframe tbody tr th:only-of-type {\n",
       "        vertical-align: middle;\n",
       "    }\n",
       "\n",
       "    .dataframe tbody tr th {\n",
       "        vertical-align: top;\n",
       "    }\n",
       "\n",
       "    .dataframe thead th {\n",
       "        text-align: right;\n",
       "    }\n",
       "</style>\n",
       "<table border=\"1\" class=\"dataframe\">\n",
       "  <thead>\n",
       "    <tr style=\"text-align: right;\">\n",
       "      <th></th>\n",
       "      <th>Login</th>\n",
       "      <th>Total Purchase Value</th>\n",
       "      <th>Average Purchase Value</th>\n",
       "      <th>Number of Purchases</th>\n",
       "      <th>Age</th>\n",
       "      <th>Item_ID</th>\n",
       "      <th>Item_Name</th>\n",
       "      <th>Sex</th>\n",
       "      <th>Price</th>\n",
       "      <th>Age Range</th>\n",
       "    </tr>\n",
       "  </thead>\n",
       "  <tbody>\n",
       "    <tr>\n",
       "      <th>403</th>\n",
       "      <td>Adairialis76</td>\n",
       "      <td>2.46</td>\n",
       "      <td>2.46</td>\n",
       "      <td>1</td>\n",
       "      <td>20</td>\n",
       "      <td>44</td>\n",
       "      <td>Bonecarvin Battle Axe</td>\n",
       "      <td>Masculino</td>\n",
       "      <td>2.46</td>\n",
       "      <td>20 to 24</td>\n",
       "    </tr>\n",
       "    <tr>\n",
       "      <th>69</th>\n",
       "      <td>Aduephos78</td>\n",
       "      <td>6.70</td>\n",
       "      <td>2.23</td>\n",
       "      <td>3</td>\n",
       "      <td>37</td>\n",
       "      <td>79</td>\n",
       "      <td>Alpha, Oath of Zeal</td>\n",
       "      <td>Masculino</td>\n",
       "      <td>2.88</td>\n",
       "      <td>35 to 39</td>\n",
       "    </tr>\n",
       "    <tr>\n",
       "      <th>102</th>\n",
       "      <td>Aeduera68</td>\n",
       "      <td>5.80</td>\n",
       "      <td>1.93</td>\n",
       "      <td>3</td>\n",
       "      <td>26</td>\n",
       "      <td>106</td>\n",
       "      <td>Crying Steel Sickle</td>\n",
       "      <td>Masculino</td>\n",
       "      <td>2.29</td>\n",
       "      <td>25 to 29</td>\n",
       "    </tr>\n",
       "    <tr>\n",
       "      <th>401</th>\n",
       "      <td>Aela49</td>\n",
       "      <td>2.46</td>\n",
       "      <td>2.46</td>\n",
       "      <td>1</td>\n",
       "      <td>25</td>\n",
       "      <td>44</td>\n",
       "      <td>Bonecarvin Battle Axe</td>\n",
       "      <td>Masculino</td>\n",
       "      <td>2.46</td>\n",
       "      <td>25 to 29</td>\n",
       "    </tr>\n",
       "    <tr>\n",
       "      <th>550</th>\n",
       "      <td>Aela59</td>\n",
       "      <td>1.27</td>\n",
       "      <td>1.27</td>\n",
       "      <td>1</td>\n",
       "      <td>23</td>\n",
       "      <td>63</td>\n",
       "      <td>Stormfury Mace</td>\n",
       "      <td>Masculino</td>\n",
       "      <td>1.27</td>\n",
       "      <td>20 to 24</td>\n",
       "    </tr>\n",
       "  </tbody>\n",
       "</table>\n",
       "</div>"
      ],
      "text/plain": [
       "            Login Total Purchase Value Average Purchase Value  \\\n",
       "403  Adairialis76                 2.46                   2.46   \n",
       "69     Aduephos78                 6.70                   2.23   \n",
       "102     Aeduera68                 5.80                   1.93   \n",
       "401        Aela49                 2.46                   2.46   \n",
       "550        Aela59                 1.27                   1.27   \n",
       "\n",
       "     Number of Purchases  Age  Item_ID              Item_Name        Sex  \\\n",
       "403                    1   20       44  Bonecarvin Battle Axe  Masculino   \n",
       "69                     3   37       79    Alpha, Oath of Zeal  Masculino   \n",
       "102                    3   26      106    Crying Steel Sickle  Masculino   \n",
       "401                    1   25       44  Bonecarvin Battle Axe  Masculino   \n",
       "550                    1   23       63         Stormfury Mace  Masculino   \n",
       "\n",
       "     Price Age Range  \n",
       "403   2.46  20 to 24  \n",
       "69    2.88  35 to 39  \n",
       "102   2.29  25 to 29  \n",
       "401   2.46  25 to 29  \n",
       "550   1.27  20 to 24  "
      ]
     },
     "execution_count": 203,
     "metadata": {},
     "output_type": "execute_result"
    }
   ],
   "source": [
    "user_master_data['Average Purchase Value'] = user_master_data['Average Purchase Value'].apply(clean_currency).astype(str)\n",
    "user_master_data['Total Purchase Value'] = user_master_data['Total Purchase Value'].apply(clean_currency).astype(str)\n",
    "user_master_data.head()\n"
   ]
  },
  {
   "cell_type": "code",
   "execution_count": 163,
   "metadata": {},
   "outputs": [
    {
     "data": {
      "text/plain": [
       "count       259\n",
       "unique        1\n",
       "top       False\n",
       "freq        259\n",
       "dtype: object"
      ]
     },
     "execution_count": 163,
     "metadata": {},
     "output_type": "execute_result"
    }
   ],
   "source": [
    "# Sex most relevant btween the 20 to 24 age range\n",
    "age_range_20to24 = user_master_data.query('25 > Age > 19')\n",
    "\n",
    "#check if there are duplicated Login\n",
    "age_range_20to24.duplicated().describe()"
   ]
  },
  {
   "cell_type": "code",
   "execution_count": 164,
   "metadata": {},
   "outputs": [],
   "source": [
    "age_range_20to24_gender = age_range_20to24['Sex'].value_counts()"
   ]
  },
  {
   "cell_type": "code",
   "execution_count": 165,
   "metadata": {},
   "outputs": [
    {
     "data": {
      "text/plain": [
       "Masculino                 217\n",
       "Feminino                   40\n",
       "Outro / NÃ£o Divulgado      2\n",
       "Name: Sex, dtype: int64"
      ]
     },
     "execution_count": 165,
     "metadata": {},
     "output_type": "execute_result"
    }
   ],
   "source": [
    "age_range_20to24_gender"
   ]
  },
  {
   "cell_type": "code",
   "execution_count": 166,
   "metadata": {},
   "outputs": [
    {
     "data": {
      "text/plain": [
       "Male          217\n",
       "Female         40\n",
       "Uninformed      2\n",
       "Name: Sex, dtype: int64"
      ]
     },
     "execution_count": 166,
     "metadata": {},
     "output_type": "execute_result"
    }
   ],
   "source": [
    "age_range_20to24_gender = age_range_20to24_gender.rename(index={'Masculino':'Male','Feminino':'Female', 'Outro / NÃ£o Divulgado':'Uninformed' })\n",
    "age_range_20to24_gender"
   ]
  },
  {
   "cell_type": "code",
   "execution_count": 179,
   "metadata": {},
   "outputs": [
    {
     "data": {
      "image/png": "[encoded data removed]",
      "text/plain": [
       "<Figure size 432x288 with 1 Axes>"
      ]
     },
     "metadata": {
      "needs_background": "light"
     },
     "output_type": "display_data"
    }
   ],
   "source": [
    "sns.barplot(x=age_range_20to24_gender.index, y=age_range_20to24_gender, palette='mako')\n",
    "plt.ylabel('Number of Purchase Item', size=12)\n",
    "plt.title('Purchase Item by Gender in a Age Range 20 to 24', size=14, pad=10)\n",
    "\n",
    "plt.show()"
   ]
  },
  {
   "cell_type": "markdown",
   "metadata": {},
   "source": [
    "# "
   ]
  },
  {
   "cell_type": "code",
   "execution_count": 195,
   "metadata": {},
   "outputs": [],
   "source": [
    "## Find the ID to the Top 5 Itemns\n",
    "# There are 2 itemn with 2 IDs"
   ]
  },
  {
   "cell_type": "code",
   "execution_count": 208,
   "metadata": {},
   "outputs": [
    {
     "data": {
      "text/html": [
       "<div>\n",
       "<style scoped>\n",
       "    .dataframe tbody tr th:only-of-type {\n",
       "        vertical-align: middle;\n",
       "    }\n",
       "\n",
       "    .dataframe tbody tr th {\n",
       "        vertical-align: top;\n",
       "    }\n",
       "\n",
       "    .dataframe thead th {\n",
       "        text-align: right;\n",
       "    }\n",
       "</style>\n",
       "<table border=\"1\" class=\"dataframe\">\n",
       "  <thead>\n",
       "    <tr style=\"text-align: right;\">\n",
       "      <th></th>\n",
       "      <th>Age</th>\n",
       "      <th>Item_ID</th>\n",
       "      <th>Login</th>\n",
       "      <th>Item_Name</th>\n",
       "      <th>Sex</th>\n",
       "      <th>Price</th>\n",
       "      <th>Age Range</th>\n",
       "    </tr>\n",
       "  </thead>\n",
       "  <tbody>\n",
       "    <tr>\n",
       "      <th>3</th>\n",
       "      <td>21</td>\n",
       "      <td>92</td>\n",
       "      <td>Pheusrical25</td>\n",
       "      <td>Final Critic</td>\n",
       "      <td>Masculino</td>\n",
       "      <td>1.36</td>\n",
       "      <td>20 to 24</td>\n",
       "    </tr>\n",
       "  </tbody>\n",
       "</table>\n",
       "</div>"
      ],
      "text/plain": [
       "   Age  Item_ID         Login     Item_Name        Sex  Price Age Range\n",
       "3   21       92  Pheusrical25  Final Critic  Masculino   1.36  20 to 24"
      ]
     },
     "execution_count": 208,
     "metadata": {},
     "output_type": "execute_result"
    }
   ],
   "source": [
    "df[df['Item_Name'] == 'Final Critic'].head(1)"
   ]
  },
  {
   "cell_type": "code",
   "execution_count": 210,
   "metadata": {},
   "outputs": [
    {
     "data": {
      "text/html": [
       "<div>\n",
       "<style scoped>\n",
       "    .dataframe tbody tr th:only-of-type {\n",
       "        vertical-align: middle;\n",
       "    }\n",
       "\n",
       "    .dataframe tbody tr th {\n",
       "        vertical-align: top;\n",
       "    }\n",
       "\n",
       "    .dataframe thead th {\n",
       "        text-align: right;\n",
       "    }\n",
       "</style>\n",
       "<table border=\"1\" class=\"dataframe\">\n",
       "  <thead>\n",
       "    <tr style=\"text-align: right;\">\n",
       "      <th></th>\n",
       "      <th>Age</th>\n",
       "      <th>Item_ID</th>\n",
       "      <th>Login</th>\n",
       "      <th>Item_Name</th>\n",
       "      <th>Sex</th>\n",
       "      <th>Price</th>\n",
       "      <th>Age Range</th>\n",
       "    </tr>\n",
       "  </thead>\n",
       "  <tbody>\n",
       "    <tr>\n",
       "      <th>57</th>\n",
       "      <td>24</td>\n",
       "      <td>34</td>\n",
       "      <td>Alallo58</td>\n",
       "      <td>Retribution Axe</td>\n",
       "      <td>Masculino</td>\n",
       "      <td>4.14</td>\n",
       "      <td>20 to 24</td>\n",
       "    </tr>\n",
       "  </tbody>\n",
       "</table>\n",
       "</div>"
      ],
      "text/plain": [
       "    Age  Item_ID     Login        Item_Name        Sex  Price Age Range\n",
       "57   24       34  Alallo58  Retribution Axe  Masculino   4.14  20 to 24"
      ]
     },
     "execution_count": 210,
     "metadata": {},
     "output_type": "execute_result"
    }
   ],
   "source": [
    "df[df['Item_Name'] == 'Retribution Axe'].head(1)"
   ]
  },
  {
   "cell_type": "code",
   "execution_count": 214,
   "metadata": {},
   "outputs": [
    {
     "data": {
      "text/html": [
       "<div>\n",
       "<style scoped>\n",
       "    .dataframe tbody tr th:only-of-type {\n",
       "        vertical-align: middle;\n",
       "    }\n",
       "\n",
       "    .dataframe tbody tr th {\n",
       "        vertical-align: top;\n",
       "    }\n",
       "\n",
       "    .dataframe thead th {\n",
       "        text-align: right;\n",
       "    }\n",
       "</style>\n",
       "<table border=\"1\" class=\"dataframe\">\n",
       "  <thead>\n",
       "    <tr style=\"text-align: right;\">\n",
       "      <th></th>\n",
       "      <th>Age</th>\n",
       "      <th>Item_ID</th>\n",
       "      <th>Login</th>\n",
       "      <th>Item_Name</th>\n",
       "      <th>Sex</th>\n",
       "      <th>Price</th>\n",
       "      <th>Age Range</th>\n",
       "    </tr>\n",
       "  </thead>\n",
       "  <tbody>\n",
       "    <tr>\n",
       "      <th>101</th>\n",
       "      <td>25</td>\n",
       "      <td>30</td>\n",
       "      <td>Assistasda90</td>\n",
       "      <td>Stormcaller</td>\n",
       "      <td>Masculino</td>\n",
       "      <td>4.15</td>\n",
       "      <td>25 to 29</td>\n",
       "    </tr>\n",
       "  </tbody>\n",
       "</table>\n",
       "</div>"
      ],
      "text/plain": [
       "     Age  Item_ID         Login    Item_Name        Sex  Price Age Range\n",
       "101   25       30  Assistasda90  Stormcaller  Masculino   4.15  25 to 29"
      ]
     },
     "execution_count": 214,
     "metadata": {},
     "output_type": "execute_result"
    }
   ],
   "source": [
    "df[df['Item_Name'] == 'Stormcaller'].head(1)\n",
    "                                         "
   ]
  },
  {
   "cell_type": "code",
   "execution_count": 215,
   "metadata": {},
   "outputs": [
    {
     "data": {
      "text/html": [
       "<div>\n",
       "<style scoped>\n",
       "    .dataframe tbody tr th:only-of-type {\n",
       "        vertical-align: middle;\n",
       "    }\n",
       "\n",
       "    .dataframe tbody tr th {\n",
       "        vertical-align: top;\n",
       "    }\n",
       "\n",
       "    .dataframe thead th {\n",
       "        text-align: right;\n",
       "    }\n",
       "</style>\n",
       "<table border=\"1\" class=\"dataframe\">\n",
       "  <thead>\n",
       "    <tr style=\"text-align: right;\">\n",
       "      <th></th>\n",
       "      <th>Age</th>\n",
       "      <th>Item_ID</th>\n",
       "      <th>Login</th>\n",
       "      <th>Item_Name</th>\n",
       "      <th>Sex</th>\n",
       "      <th>Price</th>\n",
       "      <th>Age Range</th>\n",
       "    </tr>\n",
       "  </thead>\n",
       "  <tbody>\n",
       "    <tr>\n",
       "      <th>107</th>\n",
       "      <td>29</td>\n",
       "      <td>115</td>\n",
       "      <td>Undirrala66</td>\n",
       "      <td>Spectral Diamond Doomblade</td>\n",
       "      <td>Masculino</td>\n",
       "      <td>4.25</td>\n",
       "      <td>25 to 29</td>\n",
       "    </tr>\n",
       "    <tr>\n",
       "      <th>250</th>\n",
       "      <td>25</td>\n",
       "      <td>115</td>\n",
       "      <td>Ilogha82</td>\n",
       "      <td>Spectral Diamond Doomblade</td>\n",
       "      <td>Masculino</td>\n",
       "      <td>4.25</td>\n",
       "      <td>25 to 29</td>\n",
       "    </tr>\n",
       "  </tbody>\n",
       "</table>\n",
       "</div>"
      ],
      "text/plain": [
       "     Age  Item_ID        Login                   Item_Name        Sex  Price  \\\n",
       "107   29      115  Undirrala66  Spectral Diamond Doomblade  Masculino   4.25   \n",
       "250   25      115     Ilogha82  Spectral Diamond Doomblade  Masculino   4.25   \n",
       "\n",
       "    Age Range  \n",
       "107  25 to 29  \n",
       "250  25 to 29  "
      ]
     },
     "execution_count": 215,
     "metadata": {},
     "output_type": "execute_result"
    }
   ],
   "source": [
    "df[df['Item_Name'] == 'Spectral Diamond Doomblade'].head(2)"
   ]
  },
  {
   "cell_type": "code",
   "execution_count": 218,
   "metadata": {},
   "outputs": [
    {
     "data": {
      "text/html": [
       "<div>\n",
       "<style scoped>\n",
       "    .dataframe tbody tr th:only-of-type {\n",
       "        vertical-align: middle;\n",
       "    }\n",
       "\n",
       "    .dataframe tbody tr th {\n",
       "        vertical-align: top;\n",
       "    }\n",
       "\n",
       "    .dataframe thead th {\n",
       "        text-align: right;\n",
       "    }\n",
       "</style>\n",
       "<table border=\"1\" class=\"dataframe\">\n",
       "  <thead>\n",
       "    <tr style=\"text-align: right;\">\n",
       "      <th></th>\n",
       "      <th>Age</th>\n",
       "      <th>Item_ID</th>\n",
       "      <th>Login</th>\n",
       "      <th>Item_Name</th>\n",
       "      <th>Sex</th>\n",
       "      <th>Price</th>\n",
       "      <th>Age Range</th>\n",
       "    </tr>\n",
       "  </thead>\n",
       "  <tbody>\n",
       "    <tr>\n",
       "      <th>50</th>\n",
       "      <td>32</td>\n",
       "      <td>32</td>\n",
       "      <td>Saistyphos30</td>\n",
       "      <td>Orenmir</td>\n",
       "      <td>Feminino</td>\n",
       "      <td>4.95</td>\n",
       "      <td>30 to 34</td>\n",
       "    </tr>\n",
       "  </tbody>\n",
       "</table>\n",
       "</div>"
      ],
      "text/plain": [
       "    Age  Item_ID         Login Item_Name       Sex  Price Age Range\n",
       "50   32       32  Saistyphos30   Orenmir  Feminino   4.95  30 to 34"
      ]
     },
     "execution_count": 218,
     "metadata": {},
     "output_type": "execute_result"
    }
   ],
   "source": [
    "df[df['Item_Name'] == 'Orenmir'].head(1)"
   ]
  },
  {
   "cell_type": "code",
   "execution_count": 201,
   "metadata": {},
   "outputs": [],
   "source": [
    "# which sex most present among the best selling items\n",
    "# Top 5 = [Final Critic, Retribution Axe, Stormcaller,Spectral Diamond Doomblade, Orenmir]\n",
    "item_id_top5 = user_master_data.query('Item_ID == [92, 101, 34, 30, 180, 115, 32]')\n",
    "item_id_top5 = item_id_top5['Sex'].value_counts()\n",
    "item_id_top5 = item_id_top5.rename(index={'Masculino':'Male','Feminino':'Female', 'Outro / NÃ£o Divulgado':'Uninformed' })\n",
    "\n"
   ]
  },
  {
   "cell_type": "code",
   "execution_count": 202,
   "metadata": {},
   "outputs": [
    {
     "data": {
      "image/png": "[encoded data removed]",
      "text/plain": [
       "<Figure size 432x288 with 1 Axes>"
      ]
     },
     "metadata": {
      "needs_background": "light"
     },
     "output_type": "display_data"
    }
   ],
   "source": [
    "# barchart\n",
    "sns.barplot(x=item_id_top5.index, y=item_id_top5, palette='summer')\n",
    "plt.ylabel('Number of Purchase Item', size=12)\n",
    "plt.title('Top 5 Purchase Itens by Gender', size=15)\n",
    "\n",
    "plt.show()\n"
   ]
  },
  {
   "attachments": {
    "image.png": {
     "image/png": "[encoded data removed]"
    }
   },
   "cell_type": "markdown",
   "metadata": {},
   "source": [
    "# Final conclusions\n",
    "\n",
    "### **1. Consumer Count**\n",
    "\n",
    "•\tTotal of consumer = 573\n",
    "\n",
    "### **2. General Purchasing Analysis**\n",
    "\n",
    "•\tTotal Exclusive Itens = 183\n",
    "\n",
    "•\tAverage purchase price = $ 2.93\n",
    "\n",
    "•\tTotal Item Count = 780\n",
    "\n",
    "•\tTotal Yield = $2286.33\n",
    "\n",
    "### **3. Demographic Information by Gender**\n",
    "\n",
    "•\tPercentage and count of male, female and uninformed buyers\n",
    "\n",
    "\n",
    "\n",
    "| Gender | Count\t| % |\n",
    "| --- | ------ | --- |\n",
    "| Male | 465 | 81.2% |\n",
    "Female |\t   100 |\t 17.4%\n",
    "Uniformed\t| 8\t | 1.4%\n",
    "\n",
    "![image.png](attachment:image.png)\n",
    "\n",
    "**Figure 1.** Distribution of users gender.\n",
    "* By this data presented on this table, we can conclude the Male is the most present gender among the consumers\n",
    "\n"
   ]
  },
  {
   "attachments": {
    "image.png": {
     "image/png": "[encoded data removed]"
    }
   },
   "cell_type": "markdown",
   "metadata": {},
   "source": [
    "#### **3.1. Analysis of Purchases by Gender**\n",
    "\n",
    "\n",
    "| Age Range    |  Number of purchases |   Age group shopping (%)    | Value per Unit (\\$)  | Total Purchase Value (\\$)|\n",
    "| ------------ | -------------------- | --------------------------- | -------------------- | ------- |\n",
    "| Less than 10 |28                    |3.58                         |2.98                  |83.46 |\n",
    "| 10 to 14     |35                    |4.48                         | 2.77                 |96.95|\n",
    "|15 to 19      |133                   |17.05                        |2.91                  |386.42|\n",
    "|20 to 24      |336                   |43.07                        |2.91                  |978.77|\n",
    "|25 to 29      |125                   |16.02                        |2.96                  |370.33|\n",
    "|30 to 34      |64                    |8.2                          |3.08                  |197.25|\n",
    "|35 to 39      |42                    |5.38                         |2.84                  |119.40|\n",
    "|Higher than 40|17                    |2.17                         |3.16                  | 53.75|\n",
    "\n",
    "\n",
    "![image.png](attachment:image.png)\n",
    "\n",
    "**Figure 2.** Graphical representation of consuming by age range: Money spend and Percent of the total consume\n",
    "\n",
    "\n",
    "\n",
    "\n"
   ]
  },
  {
   "attachments": {
    "image.png": {
     "image/png": "[encoded data removed]"
    }
   },
   "cell_type": "markdown",
   "metadata": {},
   "source": [
    "![image.png](attachment:image.png)\n",
    "\n",
    "**Figure 3.** Distribution of the number of items purchased by gender at the age group 20 to 24.\n",
    "##### Secction conclusion:\n",
    "* The most representative consumer age group is between 15 and 29 years old, representing 76% of the total consumed, which corresponds to the US $ 1402.22.\n",
    "\n",
    "* The age group of 20 to 24 represent more than 40% of the total consume, which corresponds to the US $ 978.77.\n",
    "* The tick value is similar to among all age groups.\n",
    "* The Male consum represent 3 times more than Female in the most representative age group 20 to 24."
   ]
  },
  {
   "attachments": {
    "image.png": {
     "image/png": "[encoded data removed]"
    }
   },
   "cell_type": "markdown",
   "metadata": {},
   "source": [
    "### 4. Identification of the 5 most profitable/polular items. \n",
    "![image.png](attachment:image.png)\n",
    "\n",
    "**Figure 4.** Top 5 items. Representation of the total purchase value and counting purchases. Organized from top to bottom the item more to the less profitable.\n",
    "\n",
    "\t\n",
    "| Item_Name                 |Total Purchase Value (\\$)|Average Purchase Value (\\$)| Number of Purchases |\n",
    "| ------------------------- | ----------------------- | ------------------------- | ------------------- |\n",
    "|Final Critic               | 38.60                   | 2.76                   |\t14|\n",
    "|Retribution Axe            | 37.26                   | 4.14                   |\t9|\n",
    "|Stormcaller                | 34.65                   | 3.46                   |\t10|\n",
    "|Spectral Diamond Doomblade | 29.75                   | 4.25                   |\t7|\n",
    "|Orenmir                    | 29.70                   | 4.95                   |\t6|\n",
    "\n",
    "##### Secction conclusion:\n",
    "* The most profitable item, Final Critic, is also the most purchased item. However, this behavior is not linear, due to the analysis between the second (Retribution Axe) and third (Stormcaller) most profitable items. The Retribution Axe item in figure 4 has a higher profit with less products than sold than the Stormcaller item.\n",
    "* This behavior can be associated with the item ticket value, been the Retribution Axe little more expensive than the Stormcaller."
   ]
  },
  {
   "attachments": {
    "image.png": {
     "image/png": "[encoded data removed]"
    }
   },
   "cell_type": "markdown",
   "metadata": {},
   "source": [
    "![image.png](attachment:image.png)\n",
    "\n",
    "**Figure 5.** Top 5 items distributed by gender. \n",
    "* This behavior can be related to the higher presence of Male gender among the buyers. Corroborating with the data shown by the age group 20 to 24. "
   ]
  },
  {
   "cell_type": "markdown",
   "metadata": {},
   "source": [
    "### 5. Identification of the 5 buyers by the total purchase value\n",
    "\n",
    "\t\n",
    "|Login      |Total Purchase Value (\\$)|\tAverage Purchase Value (\\$)   |\tNumber of Purchases| Gender |\n",
    "|-----------|-----------------------------|---------------------------|--------------------|--------|\n",
    "Undirrala66     |17.06\t                  |3.41      \t              |5                   |male|\n",
    "Saedue76\t    |13.56\t                  |3.39\t                      |4                   |male|\n",
    "Mindimnya67\t    |12.74                    |3.18\t                      |4                   |female|\n",
    "Haellysu29\t    |12.73\t                  |4.24\t                      |3                   |male|\n",
    "Eoda93\t        |11.58\t                  |3.86\t                      |3                   |male|\n",
    "\n",
    "* How was expected from the above analysis the male gender is prevalent also on the top five buyers.\n",
    "* However, it should be taken into account that, although the presence of the female gender is significantly lower in all parameters evaluated, the female gender has a representative among the largest buyers with the average ticket (Total Purchase Value (\\$)) similar to those of the male gender."
   ]
  }
 ],
 "metadata": {
  "kernelspec": {
   "display_name": "Python 3",
   "language": "python",
   "name": "python3"
  },
  "language_info": {
   "codemirror_mode": {
    "name": "ipython",
    "version": 3
   },
   "file_extension": ".py",
   "mimetype": "text/x-python",
   "name": "python",
   "nbconvert_exporter": "python",
   "pygments_lexer": "ipython3",
   "version": "3.7.0"
  }
 },
 "nbformat": 4,
 "nbformat_minor": 2
}
